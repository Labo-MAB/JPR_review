{
 "cells": [
  {
   "cell_type": "code",
   "execution_count": 60,
   "id": "32a4e0da-ff78-46ca-a97b-04ca59be6730",
   "metadata": {},
   "outputs": [],
   "source": [
    "import pickle as pkl\n",
    "import numpy as np\n",
    "from matplotlib import pyplot as plt\n",
    "import pysam\n",
    "from gtfparse import read_gtf\n",
    "\n",
    "import pandas as pd"
   ]
  },
  {
   "cell_type": "code",
   "execution_count": 73,
   "id": "4431a720-f97f-4b0c-a0ce-b12454e23d95",
   "metadata": {},
   "outputs": [],
   "source": [
    "alignement_file_path = {bam_file_path} # string for file alignement file path\n",
    "alignement_100 = pysam.AlignmentFile({alignement_file_path}) #Import alignement file from STAR alignement tool\n",
    "multi_mapped_100 = [str(line).split('\\t')[0] for line in alignement_100 if int((str(line).split('\\t')[11])[8])>1] # Get every reads that can be multimap (NH Flag represent the numbers of loci that the read can be aligned)"
   ]
  },
  {
   "cell_type": "markdown",
   "id": "ebf0a969-da7e-4113-8177-0739cadeb075",
   "metadata": {
    "jp-MarkdownHeadingCollapsed": true
   },
   "source": [
    "#### Get dark_gene and dark_trans"
   ]
  },
  {
   "cell_type": "code",
   "execution_count": 75,
   "id": "11823f7b-b95b-4dfd-95bd-035bed30e394",
   "metadata": {},
   "outputs": [],
   "source": [
    "def get_read_per_trans(multimapped): # Sort every multimap reads to their respective transcript\n",
    "    read_per_trans = {}             # Reads are name by ENG|ENST_(START position in the transcript)\n",
    "    for read in multimapped:\n",
    "        trans = read.split('_')[0]\n",
    "        pos = read.split('_')[1]\n",
    "        if trans not in read_per_trans:\n",
    "            read_per_trans.update({trans:[]})\n",
    "        if trans in read_per_trans:\n",
    "            read_per_trans[trans].append(int(pos))\n",
    "    return read_per_trans"
   ]
  },
  {
   "cell_type": "code",
   "execution_count": 76,
   "id": "8db901d3-ec6f-4de2-b4b8-e81a0ff1acfe",
   "metadata": {},
   "outputs": [],
   "source": [
    "read_per_trans_100 = get_read_per_trans(multi_mapped_100)"
   ]
  },
  {
   "cell_type": "code",
   "execution_count": 77,
   "id": "f3ba73b5-3056-4569-aa53-70c21a447adc",
   "metadata": {},
   "outputs": [],
   "source": [
    "def get_dark_regions_trans(read_per_trans, trans):  # Regrouped every adjacent reads into on multimap region(dark_region)\n",
    "    dark_region_end = 0                             # Their is one read starting at every 3 pb\n",
    "    dark_regions = []\n",
    "    last_pos = -100\n",
    "    for pos in sorted(set(read_per_trans[trans])):\n",
    "        if pos != last_pos + 3:\n",
    "            if last_pos != -100:\n",
    "                dark_region_end = last_pos\n",
    "                dark_region = (dark_region_start, dark_region_end)\n",
    "                dark_regions.append(dark_region)\n",
    "            dark_region_start = pos\n",
    "        last_pos = pos\n",
    "    dark_region = (dark_region_start, pos)\n",
    "    dark_regions.append(dark_region)\n",
    "    return dark_regions\n",
    "\n",
    "def get_dark_regions(read_per_trans):\n",
    "    dark_regions_dict = {}\n",
    "    for trans in read_per_trans.keys():\n",
    "        dark_regions_list = get_dark_regions_trans(read_per_trans, trans)\n",
    "        dark_regions_dict.update({trans:dark_regions_list})\n",
    "    return dark_regions_dict"
   ]
  },
  {
   "cell_type": "code",
   "execution_count": 78,
   "id": "bdfda133-509b-4517-ac4b-3699a4ef70f7",
   "metadata": {},
   "outputs": [],
   "source": [
    "dark_regions_100 = get_dark_regions(read_per_trans_100)"
   ]
  },
  {
   "cell_type": "code",
   "execution_count": 80,
   "id": "c75d7241-cc75-4c0d-b525-ccbd7f7e8e4a",
   "metadata": {},
   "outputs": [
    {
     "data": {
      "text/plain": [
       "220673"
      ]
     },
     "execution_count": 80,
     "metadata": {},
     "output_type": "execute_result"
    }
   ],
   "source": [
    "dark_regions_100_list = []  # Put every dark region into a list\n",
    "dark_trans = []\n",
    "for trans in dark_regions_100:\n",
    "    dark_trans.append(trans)\n",
    "    for dark_region in dark_regions_100[trans]:\n",
    "        dark_regions_100_list.append(f'{trans}_{dark_region}')\n"
   ]
  },
  {
   "cell_type": "code",
   "execution_count": 159,
   "id": "b2d3dad2-177f-4342-a703-fb977bdabaf2",
   "metadata": {},
   "outputs": [],
   "source": [
    "filtered_dark_regions = [dark_region for dark_region in dark_regions_100_list if dark_region.split('|')[1].split('_')[0] in trans_coords]   # Filter dark regions from 22 chr , X, Y, MT"
   ]
  },
  {
   "cell_type": "code",
   "execution_count": 167,
   "id": "162a5e5b-a8f0-40a7-86e1-ee76293ff0c4",
   "metadata": {},
   "outputs": [
    {
     "data": {
      "text/plain": [
       "(24208, 85981)"
      ]
     },
     "execution_count": 167,
     "metadata": {},
     "output_type": "execute_result"
    }
   ],
   "source": [
    "dark_gene = list(set([trans.split('|')[0] for trans in filtered_dark_regions]))\n",
    "dark_trans = list(set([trans.split('|')[1].split('_')[0] for trans in filtered_dark_regions]))\n",
    "print(f'Their is {len(set(dark_gene))} gene with at least 1 multimap site')\n",
    "print(f'Their is {len(set(dark_trans))} transcript with at least 1 multimap site' )"
   ]
  },
  {
   "cell_type": "markdown",
   "id": "df766cd1-c00d-4611-83b7-1cdc177ace1c",
   "metadata": {
    "jp-MarkdownHeadingCollapsed": true
   },
   "source": [
    "#### Get total dark region number"
   ]
  },
  {
   "cell_type": "code",
   "execution_count": 101,
   "id": "ce49d5b8-8d92-4460-a11a-dc99ca4a4f8e",
   "metadata": {},
   "outputs": [],
   "source": [
    "def get_real_dr_coords(dark_regions_100_list, trans_list):  # Get the coords of the dark region on the chromosome from de coords that we have which are on the transcript\n",
    "    real_dr_coords = []\n",
    "    for dark_region in dark_regions_100_list:\n",
    "        trans = dark_region.split('|')[1].split('_')[0]\n",
    "        start = dark_region.split('(')[1].split(',')[0]\n",
    "        end = dark_region.split(', ')[1].split(')')[0]\n",
    "        trans_chr, trans_start, trans_end = trans_coords[trans]"
   ]
  },
  {
   "cell_type": "code",
   "execution_count": 183,
   "id": "129f4cb5-3018-4fd6-8e58-4ad36ccf0eb8",
   "metadata": {},
   "outputs": [],
   "source": [
    "dark_region_by_chr = {} # Get every dark region in every chromosome\n",
    "\n",
    "for dark_region in filtered_dark_regions:\n",
    "    trans = dark_region.split('|')[1].split('_')[0]\n",
    "    start = dark_region.split('(')[1].split(',')[0]\n",
    "    end = dark_region.split(', ')[1].split(')')[0]\n",
    "    \n",
    "    trans_chr, trans_start, trans_end = trans_coords[trans]\n",
    "\n",
    "    dr_start = int(start) + int(trans_start)\n",
    "    dr_end = int(end) + int(trans_start)\n",
    "\n",
    "    if trans_chr not in dark_region_by_chr:\n",
    "        dark_region_by_chr.update({trans_chr:[]})\n",
    "    dark_region_by_chr[trans_chr].append((dr_start, dr_end))"
   ]
  },
  {
   "cell_type": "code",
   "execution_count": 242,
   "id": "60a9fc58-b43d-4c9f-8a6f-767c4537f5f9",
   "metadata": {},
   "outputs": [],
   "source": [
    "def remove_overlap_dr(dark_region_by_chr, chr): #Their is overlapping transcript so here we remove the dark regions that could be count more than 1 time\n",
    "    big_end = 0\n",
    "    for start, end in dark_region_by_chr[chr]:\n",
    "        if end>big_end:\n",
    "            big_end = end\n",
    "            \n",
    "    matrix = np.zeros(big_end+10)\n",
    "    for start, end in dark_region_by_chr[chr]:\n",
    "        matrix[start:end+1] = 1\n",
    "    \n",
    "    \n",
    "    prev_pos = 0\n",
    "    chr_dark_region = []\n",
    "    mat_index = 0\n",
    "    for pos in matrix:\n",
    "        if pos == 1 and prev_pos == 0:\n",
    "            index_start = mat_index\n",
    "        if pos == 0 and prev_pos == 1:\n",
    "            index_end = mat_index\n",
    "            chr_dark_region.append((index_start, index_end))\n",
    "        prev_pos = pos\n",
    "        mat_index +=1\n",
    "    return chr_dark_region"
   ]
  },
  {
   "cell_type": "code",
   "execution_count": 243,
   "id": "5edad547-caa1-43c4-b28d-b01414dddf6f",
   "metadata": {},
   "outputs": [],
   "source": [
    "chroms = set([str(x) for x in range(1, 23)] + ['X', 'Y', 'MT']) #Get final dark regions\n",
    "final_dark_regions_dict_by_chr = {chr:remove_overlap_dr(dark_region_by_chr, chr) for chr in chroms} "
   ]
  },
  {
   "cell_type": "code",
   "execution_count": 250,
   "id": "8c253d54-cbc0-4244-8565-e99177780aa7",
   "metadata": {},
   "outputs": [],
   "source": [
    "tot_dr = 0      # Count total dark regions from all chromosomes\n",
    "for chr in final_dark_regions_dict_by_chr:\n",
    "    tot_dr = len(final_dark_regions_dict_by_chr[chr]) + tot_dr\n",
    "\n",
    "tot_dr"
   ]
  },
  {
   "cell_type": "markdown",
   "id": "73f7521c-793f-4ed0-9174-98b28799aa22",
   "metadata": {
    "jp-MarkdownHeadingCollapsed": true
   },
   "source": [
    "#### Get biotype %"
   ]
  },
  {
   "cell_type": "code",
   "execution_count": 253,
   "id": "0187ebba-973d-4fe5-ab64-1f32dcb44284",
   "metadata": {},
   "outputs": [
    {
     "name": "stderr",
     "output_type": "stream",
     "text": [
      "INFO:root:Extracted GTF attributes: ['gene_id', 'gene_version', 'gene_name', 'gene_source', 'gene_biotype', 'transcript_id', 'transcript_version', 'transcript_name', 'transcript_source', 'transcript_biotype', 'tag', 'transcript_support_level', 'exon_number', 'exon_id', 'exon_version', 'protein_id', 'protein_version', 'ccds_id']\n"
     ]
    }
   ],
   "source": [
    "gtf_file =  read_gtf({gtf_file_path})  # Get every genes and transcripts their biotype from gtf, give the path string for gtf\n",
    "gtf_file = pd.DataFrame(gtf_file, columns = gtf_file.columns)\n",
    "\n",
    "chroms = set([str(x) for x in range(1, 23)] + ['X', 'Y', 'MT'])\n",
    "genes_biotypes_df = gtf_file[((gtf_file['feature']=='gene') & (pd.Series(gtf_file['seqname']).isin(chroms)))==True][['gene_id', 'gene_biotype']].to_dict(orient='records')\n",
    "trans_biotypes_df = gtf_file[((gtf_file['feature']=='transcript') & (pd.Series(gtf_file['seqname']).isin(chroms)))==True][['transcript_id', 'transcript_biotype']].to_dict(orient='records')\n"
   ]
  },
  {
   "cell_type": "code",
   "execution_count": 256,
   "id": "f28bd8ff-e6c0-4993-ace6-8c7b380bad80",
   "metadata": {},
   "outputs": [],
   "source": [
    "biotype_groups = {                          # Dictionnary to regroup gtf biotypes annotations into simpler categories\n",
    "    'processed_transcript':'non_coding',\n",
    "    'lincRNA':'non_coding',\n",
    "    'antisense':'non_coding',\n",
    "    'retained_intron':'non_coding',\n",
    "    'sense_intronic':'non_coding',\n",
    "    'sense_overlapping':'non_coding',\n",
    "    'misc_RNA':'non_coding',\n",
    "    '3prime_overlapping_ncRNA':'non_coding',\n",
    "    \n",
    "    'transcribed_unprocessed_pseudogene':'pseudogene',\n",
    "    'unprocessed_pseudogene':'pseudogene',\n",
    "    'processed_pseudogene':'pseudogene',\n",
    "    'transcribed_processed_pseudogene':'pseudogene',\n",
    "    'pseudogene':'pseudogene',\n",
    "    'polymorphic_pseudogene':'pseudogene',\n",
    "    'transcribed_unitary_pseudogene':'pseudogene',\n",
    "    'rRNA_pseudogene':'pseudogene',\n",
    "    'IG_V_pseudogene':'pseudogene',\n",
    "    'translated_processed_pseudogene':'pseudogene',\n",
    "    'unitary_pseudogene':'pseudogene',\n",
    "    'IG_C_pseudogene':'pseudogene',\n",
    "    'IG_J_pseudogene':'pseudogene',\n",
    "    'IG_pseudogene':'pseudogene',\n",
    "    'TR_V_pseudogene':'pseudogene',\n",
    "    'TR_J_pseudogene':'pseudogene',\n",
    "    \n",
    "    'protein_coding':'protein_coding',\n",
    "    'IG_C_gene':'protein_coding',\n",
    "    'IG_V_gene':'protein_coding',\n",
    "    'TR_C_gene':'protein_coding',\n",
    "    'TR_J_gene':'protein_coding',\n",
    "    'TR_D_gene':'protein_coding',\n",
    "    'IG_J_gene':'protein_coding',\n",
    "    'IG_D_gene':'protein_coding',\n",
    "    'IG_gene':'protein_coding',\n",
    "    \n",
    "    'nonsense_mediated_decay':'non_coding',\n",
    "    'miRNA':'non_coding',\n",
    "    'TEC':'non_coding',\n",
    "    'rRNA':'non_coding',\n",
    "    'bidirectional_promoter_lncRNA':'non_coding',\n",
    "    'snRNA':'non_coding',\n",
    "    'scaRNA':'non_coding',\n",
    "    'scRNA':'non_coding',\n",
    "    'sRNA':'non_coding',\n",
    "    'non_stop_decay':'non_coding',\n",
    "    'snoRNA':'non_coding',\n",
    "    'macro_lncRNA':'non_coding',\n",
    "    'non_coding':'non_coding',\n",
    "    'vaultRNA':'non_coding',\n",
    "    \n",
    "    'TR_V_gene':'other',\n",
    "    'Mt_rRNA':'other',\n",
    "    'Mt_tRNA':'other',\n",
    "    'ribozyme':'other'\n",
    "}"
   ]
  },
  {
   "cell_type": "code",
   "execution_count": 269,
   "id": "7c783847-13f9-4ccb-b235-135d69475266",
   "metadata": {},
   "outputs": [],
   "source": [
    "trans_biotype = {trans['transcript_id']:trans['transcript_biotype'] for trans in trans_biotypes_df} # Make dictionnaries genes/transcript : their biotype\n",
    "gene_biotype = {gene['gene_id']:gene['gene_biotype'] for gene in genes_biotypes_df}"
   ]
  },
  {
   "cell_type": "code",
   "execution_count": 267,
   "id": "631a7d74-c47c-494d-9918-a260fc867258",
   "metadata": {},
   "outputs": [
    {
     "name": "stdout",
     "output_type": "stream",
     "text": [
      "4.942952512764448% of which are pseudogenes transcripts\n"
     ]
    }
   ],
   "source": [
    "trans_pseudogenes = [trans for trans in set(dark_trans) if biotype_groups[trans_biotype[trans]] == 'pseudogene']    # % of transcripts having at least 1 multimap that are annotated pseudogenes\n",
    "pseudo_pourc = len(trans_pseudogenes)/len(set(dark_trans))*100\n",
    "print(f'{pseudo_pourc}% of which are pseudogenes transcripts')"
   ]
  },
  {
   "cell_type": "code",
   "execution_count": 274,
   "id": "4b470f2f-b233-4ef6-ab76-ed665a504460",
   "metadata": {},
   "outputs": [
    {
     "name": "stdout",
     "output_type": "stream",
     "text": [
      "52.158034914690454% of which are protein_coding transcripts\n"
     ]
    }
   ],
   "source": [
    "trans_protein_coding = [trans for trans in set(dark_trans) if biotype_groups[trans_biotype[trans]] == 'protein_coding']     # % of transcripts having at least 1 multimap that are annotated protein_coding\n",
    "protein_coding_pourc = len(trans_protein_coding)/len(set(dark_trans))*100\n",
    "print(f'{protein_coding_pourc}% of which are protein_coding transcripts')"
   ]
  },
  {
   "cell_type": "code",
   "execution_count": 275,
   "id": "996bcb86-c91c-426a-8737-a5e283bcf7dd",
   "metadata": {},
   "outputs": [
    {
     "name": "stdout",
     "output_type": "stream",
     "text": [
      "42.88505600074435% of which are non_coding transcripts\n"
     ]
    }
   ],
   "source": [
    "trans_non_coding = [trans for trans in set(dark_trans) if biotype_groups[trans_biotype[trans]] == 'non_coding']     # % of transcripts having at least 1 multimap that are annotated protein_coding\n",
    "non_coding_pourc = len(trans_non_coding)/len(set(dark_trans))*100\n",
    "print(f'{non_coding_pourc}% of which are non_coding transcripts')"
   ]
  },
  {
   "cell_type": "code",
   "execution_count": 273,
   "id": "24cc12e4-05d4-4d2c-9faf-9abc010d2fac",
   "metadata": {},
   "outputs": [
    {
     "name": "stdout",
     "output_type": "stream",
     "text": [
      "29.136548823761338% of pseudogenes have at least 1 dark regions\n"
     ]
    }
   ],
   "source": [
    "tot_pseudogenes = [gene for gene in gene_biotype if biotype_groups[gene_biotype[gene]] == 'pseudogene']     # % of pseudogenes that have a at least 1 multimap site\n",
    "dark_pseudogenes = [gene for gene in set(dark_gene) if biotype_groups[gene_biotype[gene]] == 'pseudogene']\n",
    "pseudo_pourc = len(dark_pseudogenes)/len(set(tot_pseudogenes))*100\n",
    "print(f'{pseudo_pourc}% of pseudogenes have at least 1 dark regions')"
   ]
  },
  {
   "cell_type": "code",
   "execution_count": 277,
   "id": "160cf891-4cd1-4cf3-b772-d88dfe800a2c",
   "metadata": {},
   "outputs": [
    {
     "name": "stdout",
     "output_type": "stream",
     "text": [
      "18.316259087904825% of which are pseudogenes genes\n"
     ]
    }
   ],
   "source": [
    "gene_pseudogenes = [gene for gene in set(dark_gene) if biotype_groups[gene_biotype[gene]] == 'pseudogene']      # % of gene having at least 1 multimap site that are annotated pseudogenes \n",
    "pseudo_pourc = len(gene_pseudogenes)/len(set(dark_gene))*100\n",
    "print(f'{pseudo_pourc}% of which are pseudogenes genes')"
   ]
  }
 ],
 "metadata": {
  "kernelspec": {
   "display_name": "Python 3 (ipykernel)",
   "language": "python",
   "name": "python3"
  },
  "language_info": {
   "codemirror_mode": {
    "name": "ipython",
    "version": 3
   },
   "file_extension": ".py",
   "mimetype": "text/x-python",
   "name": "python",
   "nbconvert_exporter": "python",
   "pygments_lexer": "ipython3",
   "version": "3.10.12"
  }
 },
 "nbformat": 4,
 "nbformat_minor": 5
}
