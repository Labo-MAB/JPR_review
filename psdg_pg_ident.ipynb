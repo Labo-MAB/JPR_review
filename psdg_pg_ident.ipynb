{
 "cells": [
  {
   "cell_type": "code",
   "execution_count": 395,
   "id": "59f7bf9f",
   "metadata": {},
   "outputs": [],
   "source": [
    "import zipfile\n",
    "import numpy as np\n",
    "import pandas as pd\n",
    "import gzip\n",
    "import shutil\n",
    "from Bio import SeqIO\n",
    "import matplotlib.pyplot as plt\n",
    "import os\n",
    "from os import listdir\n",
    "from os.path import isfile, join\n",
    "from matplotlib.pyplot import figure\n",
    "import pickle\n",
    "from itertools import chain\n",
    "from Bio.Align import PairwiseAligner\n",
    "aligner = PairwiseAligner()\n",
    "#from Bio.Align import substitution_matrices\n",
    "#alignerPROT = PairwiseAligner()\n",
    "#alignerPROT.substitution_matrix = substitution_matrices.load(\"BLOSUM62\")\n",
    "from scipy.spatial.distance import hamming\n",
    "from scipy import stats\n",
    "import re"
   ]
  },
  {
   "cell_type": "code",
   "execution_count": 4,
   "id": "481e10e7",
   "metadata": {},
   "outputs": [],
   "source": [
    "with open('./../PSICUBE_dict.pickle', 'rb') as handle:\n",
    "    PSICUBE_dict = pickle.load(handle)"
   ]
  },
  {
   "cell_type": "code",
   "execution_count": 5,
   "id": "8f3bc642",
   "metadata": {},
   "outputs": [],
   "source": [
    "#Import GENEs\n",
    "MART111fna_file=\"./mart111fasta_export.txt\""
   ]
  },
  {
   "cell_type": "code",
   "execution_count": 3,
   "id": "0aa5762e",
   "metadata": {},
   "outputs": [],
   "source": [
    "\n",
    "with gzip.open(f\"{MART111fna_file}.gz\", 'rb') as f_in:\n",
    "    with open(MART111fna_file, 'wb') as f_out:\n",
    "        shutil.copyfileobj(f_in, f_out)"
   ]
  },
  {
   "cell_type": "code",
   "execution_count": 6,
   "id": "40ab8cd2",
   "metadata": {},
   "outputs": [],
   "source": [
    "##parce to dictionary\n",
    "input_file = open(MART111fna_file)\n",
    "MART111fna_orig = SeqIO.to_dict(SeqIO.parse(input_file, \"fasta\"))"
   ]
  },
  {
   "cell_type": "code",
   "execution_count": 33,
   "id": "289b5821",
   "metadata": {},
   "outputs": [],
   "source": [
    "#with open('./MART111fna_orig.pickle', 'wb') as handle:\n",
    "#    pickle.dump(MART111fna_orig, handle, protocol=pickle.HIGHEST_PROTOCOL)"
   ]
  },
  {
   "cell_type": "code",
   "execution_count": 5,
   "id": "0ad9279d",
   "metadata": {},
   "outputs": [
    {
     "data": {
      "text/plain": [
       "'ENSG00000000005|ENST00000373031;ENST00000485971|TNMD|protein_coding|protein_coding;protein_coding_CDS_not_defined'"
      ]
     },
     "execution_count": 5,
     "metadata": {},
     "output_type": "execute_result"
    }
   ],
   "source": [
    "list(MART111fna_orig.keys())[0]"
   ]
  },
  {
   "cell_type": "code",
   "execution_count": 7,
   "id": "cbb7cc57",
   "metadata": {},
   "outputs": [],
   "source": [
    "MART111fna_protcodgeneid=[key.split(\"|\")[0] for key in MART111fna_orig.keys() if key.split(\"|\")[3]==\"protein_coding\"]\n",
    "MART111fna_psdgtrxid=[key.split(\"|\")[1].split(\";\") for key in MART111fna_orig.keys() if \"pseudogene\" in key.split(\"|\")[3]]\n",
    "MART111fna_psdgtrxid=list(chain.from_iterable(MART111fna_psdgtrxid))"
   ]
  },
  {
   "cell_type": "code",
   "execution_count": 8,
   "id": "1d9a4a2a",
   "metadata": {},
   "outputs": [
    {
     "data": {
      "text/plain": [
       "(17313, 23214)"
      ]
     },
     "execution_count": 8,
     "metadata": {},
     "output_type": "execute_result"
    }
   ],
   "source": [
    "len(MART111fna_psdgtrxid),len(MART111fna_protcodgeneid)"
   ]
  },
  {
   "cell_type": "code",
   "execution_count": 9,
   "id": "788d6630",
   "metadata": {},
   "outputs": [],
   "source": [
    "#Define pseudogene - psrental GENE pairs, filter out version incompatibilies and incompleat pairs.\n",
    "pairs_gene=[(k.split(\"_\")[0],k.split(\"_\")[1]) for k in PSICUBE_dict.keys()]\n",
    "PSIfilt_pairs=pairs_gene.copy()\n",
    "#MART111fna_psdgtrxid_psi=MART111fna_psdgtrxid.copy()\n",
    "#MART111fna_protcodgeneid_psi=MART111fna_protcodgeneid.copy()\n",
    "for pair in pairs_gene:\n",
    "    if pair[0] not in MART111fna_psdgtrxid or pair[1] not in MART111fna_protcodgeneid:\n",
    "        #MART111fna_psdgtrxid_psi.remove(pair[0])\n",
    "        #MART111fna_protcodgeneid_psi.remove(pair[1])\n",
    "        PSIfilt_pairs.remove(pair)"
   ]
  },
  {
   "cell_type": "code",
   "execution_count": 35,
   "id": "724532cf",
   "metadata": {},
   "outputs": [],
   "source": [
    "#with open('./PSIfilt_pairs.pkl', 'wb') as f:\n",
    "#    pickle.dump(PSIfilt_pairs, f)"
   ]
  },
  {
   "cell_type": "code",
   "execution_count": 10,
   "id": "0a1ff7fd",
   "metadata": {},
   "outputs": [
    {
     "data": {
      "text/plain": [
       "(10371, 9484)"
      ]
     },
     "execution_count": 10,
     "metadata": {},
     "output_type": "execute_result"
    }
   ],
   "source": [
    "len(pairs_gene),len(PSIfilt_pairs)"
   ]
  },
  {
   "cell_type": "code",
   "execution_count": 11,
   "id": "0e954bb5",
   "metadata": {},
   "outputs": [],
   "source": [
    "PSIfilt_psdgtrx=[pair[0] for pair in PSIfilt_pairs]\n",
    "PSIfilt_pggene=[pair[1] for pair in PSIfilt_pairs]"
   ]
  },
  {
   "cell_type": "code",
   "execution_count": 45,
   "id": "71b22702",
   "metadata": {},
   "outputs": [
    {
     "data": {
      "text/plain": [
       "{'4': '1.4', '6': '3.6'}"
      ]
     },
     "execution_count": 45,
     "metadata": {},
     "output_type": "execute_result"
    }
   ],
   "source": [
    "#a=[\"1.4\",\"2.5\",\"3.6\"]\n",
    "#b=[\"4\",\"6\"]\n",
    "#{e:i for i in a for e in i.split(\".\") if e in b}"
   ]
  },
  {
   "cell_type": "code",
   "execution_count": 12,
   "id": "2e2b6ebe",
   "metadata": {},
   "outputs": [],
   "source": [
    "PSIfilt_psdggene_map={trx:key for key in  MART111fna_orig.keys() for trx in key.split(\"|\")[1].split(\";\") if trx in PSIfilt_psdgtrx}"
   ]
  },
  {
   "cell_type": "code",
   "execution_count": 13,
   "id": "37e868cf",
   "metadata": {},
   "outputs": [],
   "source": [
    "PSIfilt_pggene_map={key.split(\"|\")[0]:key for key in  MART111fna_orig.keys() if key.split(\"|\")[0] in PSIfilt_pggene}"
   ]
  },
  {
   "cell_type": "code",
   "execution_count": 34,
   "id": "263f8046",
   "metadata": {},
   "outputs": [],
   "source": [
    "#with open('./PSIfilt_psdggene_map.pickle', 'wb') as handle:\n",
    "#    pickle.dump(PSIfilt_psdggene_map, handle, protocol=pickle.HIGHEST_PROTOCOL)\n",
    "#with open('./PSIfilt_pggene_map.pickle', 'wb') as handle:\n",
    "#    pickle.dump(PSIfilt_pggene_map, handle, protocol=pickle.HIGHEST_PROTOCOL)"
   ]
  },
  {
   "cell_type": "code",
   "execution_count": 14,
   "id": "136b38a8",
   "metadata": {},
   "outputs": [
    {
     "name": "stdout",
     "output_type": "stream",
     "text": [
      "9484 3366\n",
      "9484 3366\n"
     ]
    }
   ],
   "source": [
    "print(len(set(PSIfilt_psdggene_map.keys())),len(set(PSIfilt_pggene_map.keys())))\n",
    "print(len(set(PSIfilt_psdgtrx)),len(set(PSIfilt_pggene)))"
   ]
  },
  {
   "cell_type": "code",
   "execution_count": null,
   "id": "356442f4",
   "metadata": {},
   "outputs": [],
   "source": []
  },
  {
   "cell_type": "code",
   "execution_count": 15,
   "id": "dab8b3e0",
   "metadata": {},
   "outputs": [],
   "source": [
    "def end_of_loop():\n",
    "     raise StopIteration\n",
    "def align_start(seq):\n",
    "    count=[]\n",
    "    try:\n",
    "        [end_of_loop() if len(count)>0 else count.append(i) for c,i in zip(seq,range(0,len(seq))) if c==\"A\" or c==\"T\" or c==\"G\" or c==\"C\"]\n",
    "    except StopIteration:\n",
    "        return count[0]\n",
    "def align_end(seq):\n",
    "    seq=seq[::-1]\n",
    "    count=[]\n",
    "    try:\n",
    "        [end_of_loop() if len(count)>0 else count.append(i) for c,i in zip(seq,range(0,len(seq))) if c==\"A\" or c==\"T\" or c==\"G\" or c==\"C\"]\n",
    "    except StopIteration:\n",
    "        return len(seq)-count[0]"
   ]
  },
  {
   "cell_type": "code",
   "execution_count": null,
   "id": "98adad7b",
   "metadata": {},
   "outputs": [],
   "source": [
    "MART111fna_align_psipairs_dict={}\n",
    "#MART111fna_seqpsipairs_ident=[]\n",
    "for pair in PSIfilt_pairs:\n",
    "    psdgkey=PSIfilt_psdggene_map[pair[0]]\n",
    "    protcodkey=PSIfilt_pggene_map[pair[1]]\n",
    "    psdg_seq=str(MART111fna_orig[psdgkey].seq)\n",
    "    pg_seq=str(MART111fna_orig[protcodkey].seq)\n",
    "    alignments = aligner.align(psdg_seq, pg_seq)\n",
    "    alignment = alignments[0]\n",
    "    lines = str(alignment).split(\"\\n\")\n",
    "    psdg_alg=lines[0]\n",
    "    pg_alg=lines[2] \n",
    "    MART111fna_align_psipairs_dict[pair]={}\n",
    "    MART111fna_align_psipairs_dict[pair][\"psdg_align\"]=psdg_alg\n",
    "    MART111fna_align_psipairs_dict[pair][\"pg_align\"]=pg_alg\n",
    "    #stind=align_start(psdg_alg)\n",
    "    #endind=align_end(psdg_alg)\n",
    "    #MART111fna_seqpsipairs_ident.append((1-hamming(list(psdg_alg[stind:endind]),list(pg_alg[stind:endind]))))"
   ]
  },
  {
   "cell_type": "code",
   "execution_count": null,
   "id": "f5ce180f",
   "metadata": {},
   "outputs": [],
   "source": [
    "#with open('./MART111fna_align_psipairs_dict.pickle', 'wb') as handle:\n",
    "#    pickle.dump(MART111fna_align_psipairs_dict, handle, protocol=pickle.HIGHEST_PROTOCOL)"
   ]
  },
  {
   "cell_type": "code",
   "execution_count": null,
   "id": "80c1020a",
   "metadata": {},
   "outputs": [],
   "source": [
    "with open('./MART111fna_seqpsipairs_ident.pkl', 'wb') as f:\n",
    "    pickle.dump(MART111fna_seqpsipairs_ident, f)"
   ]
  },
  {
   "cell_type": "markdown",
   "id": "ca740cf5",
   "metadata": {},
   "source": []
  },
  {
   "cell_type": "code",
   "execution_count": 69,
   "id": "96b0b0f3",
   "metadata": {},
   "outputs": [],
   "source": [
    "#Import GENEs\n",
    "MART95fna_file=\"./mart95fasta_export.txt\""
   ]
  },
  {
   "cell_type": "code",
   "execution_count": 70,
   "id": "00aa450a",
   "metadata": {},
   "outputs": [],
   "source": [
    "with gzip.open(f\"{MART95fna_file}.gz\", 'rb') as f_in:\n",
    "    with open(MART95fna_file, 'wb') as f_out:\n",
    "        shutil.copyfileobj(f_in, f_out)"
   ]
  },
  {
   "cell_type": "code",
   "execution_count": 72,
   "id": "3c185ba5",
   "metadata": {},
   "outputs": [],
   "source": [
    "##parce to dictionary\n",
    "input_file = open(MART95fna_file)\n",
    "MART95fna_orig = SeqIO.to_dict(SeqIO.parse(input_file, \"fasta\"))"
   ]
  },
  {
   "cell_type": "code",
   "execution_count": 73,
   "id": "0e17a328",
   "metadata": {},
   "outputs": [],
   "source": [
    "#with open('./MART95fna_orig.pickle', 'wb') as handle:\n",
    "#    pickle.dump(MART95fna_orig, handle, protocol=pickle.HIGHEST_PROTOCOL)"
   ]
  },
  {
   "cell_type": "code",
   "execution_count": 76,
   "id": "44f2a702",
   "metadata": {},
   "outputs": [
    {
     "data": {
      "text/plain": [
       "'ENSG00000000005|ENST00000373031;ENST00000485971|TNMD|protein_coding|protein_coding;processed_transcript'"
      ]
     },
     "execution_count": 76,
     "metadata": {},
     "output_type": "execute_result"
    }
   ],
   "source": [
    "list(MART95fna_orig.keys())[0]"
   ]
  },
  {
   "cell_type": "code",
   "execution_count": 84,
   "id": "aa649ce0",
   "metadata": {},
   "outputs": [],
   "source": [
    "MART95fna_protcodgeneid=[key.split(\"|\")[0] for key in MART95fna_orig.keys() if key.split(\"|\")[3]==\"protein_coding\"]\n",
    "MART95fna_psdgtrxid=[key.split(\"|\")[1].split(\";\") for key in MART95fna_orig.keys() if \"pseudogene\" in key.split(\"|\")[3]]\n",
    "MART95fna_psdgtrxid=list(chain.from_iterable(MART95fna_psdgtrxid))"
   ]
  },
  {
   "cell_type": "code",
   "execution_count": 86,
   "id": "b3fe18c0",
   "metadata": {},
   "outputs": [],
   "source": [
    "#Define pseudogene - psrental GENE pairs, filter out version incompatibilies and incompleat pairs.\n",
    "pairs_gene=[(k.split(\"_\")[0],k.split(\"_\")[1]) for k in PSICUBE_dict.keys()]\n",
    "PSIfilt95_pairs=pairs_gene.copy()\n",
    "for pair in pairs_gene:\n",
    "    if pair[0] not in MART95fna_psdgtrxid or pair[1] not in MART95fna_protcodgeneid:\n",
    "        PSIfilt95_pairs.remove(pair)"
   ]
  },
  {
   "cell_type": "code",
   "execution_count": 116,
   "id": "61938ce3",
   "metadata": {},
   "outputs": [
    {
     "data": {
      "text/plain": [
       "9547"
      ]
     },
     "execution_count": 116,
     "metadata": {},
     "output_type": "execute_result"
    }
   ],
   "source": [
    "len(PSIfilt95_pairs)"
   ]
  },
  {
   "cell_type": "code",
   "execution_count": 114,
   "id": "7c8beac8",
   "metadata": {},
   "outputs": [],
   "source": [
    "MART95fna_protcodtrxid=[key.split(\"|\")[1].split(\";\") for key in MART95fna_orig.keys()  if key.split(\"|\")[3]==\"protein_coding\"]\n",
    "MART95fna_protcodtrxid=list(chain.from_iterable(MART95fna_protcodtrxid))"
   ]
  },
  {
   "cell_type": "code",
   "execution_count": 115,
   "id": "767d6a58",
   "metadata": {},
   "outputs": [],
   "source": [
    "#Define pseudogene - psrental GENE pairs, filter out version incompatibilies and incompleat pairs.\n",
    "#pairs_trx=[(k.split(\"_\")[0],k.split(\"_\")[2]) for k in PSICUBE_dict.keys()]\n",
    "#PSIfilt95_pairstrx=pairs_trx.copy()\n",
    "#for pair in pairs_trx:\n",
    "#    if pair[0] not in MART95fna_psdgtrxid or pair[1] not in MART95fna_protcodtrxid:\n",
    "#        PSIfilt95_pairstrx.remove(pair)"
   ]
  },
  {
   "cell_type": "code",
   "execution_count": 117,
   "id": "80c01c46",
   "metadata": {},
   "outputs": [
    {
     "data": {
      "text/plain": [
       "8783"
      ]
     },
     "execution_count": 117,
     "metadata": {},
     "output_type": "execute_result"
    }
   ],
   "source": [
    "len(PSIfilt95_pairstrx)"
   ]
  },
  {
   "cell_type": "code",
   "execution_count": 77,
   "id": "e9156d47",
   "metadata": {},
   "outputs": [],
   "source": [
    "MART95_acss={}\n",
    "for key in MART95fna_orig.keys():\n",
    "    gene=key.split(\"|\")[0]\n",
    "    trxlist=key.split(\"|\")[1].split(\";\")\n",
    "    for trx in trxlist:\n",
    "        MART95_acss[trx]=gene"
   ]
  },
  {
   "cell_type": "markdown",
   "id": "b888cb8e",
   "metadata": {},
   "source": [
    "#protein"
   ]
  },
  {
   "cell_type": "code",
   "execution_count": 278,
   "id": "6c947d4c",
   "metadata": {},
   "outputs": [],
   "source": [
    "with open(f'./MS3up1_psdgU.pkl','rb') as handle:\n",
    "    MS3up1_psdgU= pickle.load(handle)\n",
    "with open(f'./MS2p_psdgU.pkl','rb') as handle:\n",
    "    MS2p_psdgU= pickle.load(handle)"
   ]
  },
  {
   "cell_type": "code",
   "execution_count": 287,
   "id": "a9574c3c",
   "metadata": {},
   "outputs": [],
   "source": [
    "MSall_psdgU=list(set(MS3up1_psdgU+MS2p_psdgU))"
   ]
  },
  {
   "cell_type": "code",
   "execution_count": 288,
   "id": "3c842216",
   "metadata": {},
   "outputs": [],
   "source": [
    "MSall_psdgUtrx=[trx for gene in MSall_psdgU for trx in MART95_acss.keys() if gene==MART95_acss[trx]] #all trx for each psdg"
   ]
  },
  {
   "cell_type": "code",
   "execution_count": 284,
   "id": "867d0e12",
   "metadata": {},
   "outputs": [],
   "source": [
    "psi_psdgtrx=[k.split(\"_\")[0] for k in PSICUBE_dict.keys()]"
   ]
  },
  {
   "cell_type": "code",
   "execution_count": 289,
   "id": "6742d7cb",
   "metadata": {},
   "outputs": [],
   "source": [
    "MSall_psdgUtrx_psi=[trx for trx in MSall_psdgUtrx if trx in psi_psdgtrx]"
   ]
  },
  {
   "cell_type": "code",
   "execution_count": 290,
   "id": "a6ed015e",
   "metadata": {},
   "outputs": [
    {
     "data": {
      "text/plain": [
       "1279"
      ]
     },
     "execution_count": 290,
     "metadata": {},
     "output_type": "execute_result"
    }
   ],
   "source": [
    "len(MSall_psdgUtrx_psi)"
   ]
  },
  {
   "cell_type": "code",
   "execution_count": 291,
   "id": "e9f7c015",
   "metadata": {},
   "outputs": [],
   "source": [
    "#MSall_psdgUgene_psi=[MART95_acss[trx] for trx in MSall_psdgUtrx_psi]"
   ]
  },
  {
   "cell_type": "code",
   "execution_count": 74,
   "id": "1e3a50ed",
   "metadata": {},
   "outputs": [],
   "source": [
    "#Openprot pseudogenic proteins filtered by overlap with psiCube (by pseudogene transcript accession) and by  longest transcript (acording to Openprot).\n",
    "#Note, if pseudogene transcript accession was present in Openprot, but coresponding parental gene transcript accession was absent (and visa versa), the pair was not included in .pkl.\n",
    "#OP_df_altprot_ms0_psdg_psicube_lngstorf=pd.read_pickle(\"./OP16_df_altprot_ms0_psdg_psicube_lngstorf.pkl\")\n",
    "#Openprot reference proteins filtered by overlap with psiCube (by parental gene transcript accession) and by  longest transcript (acording to Openprot).\n",
    "#Note, if pseudogene transcript accession was present in Openprot, but coresponding parental gene transcript accession was absent (and visa versa), the pair was not included in .pkl.\n",
    "#OP_df_refprot_ms0_psicube_lngstorf=pd.read_pickle(\"./OP16_df_refprot_ms0_psicube_lngstorf.pkl\")\n",
    "#Filtered (above) pseudogenic proteins sequence (SeqIO dictionary).\n",
    "#with open(f'./OP16fasta_psdgpsicube_lngstorf.pickle','rb') as handle:\n",
    "#    OPfasta_psdgpsicube_lngstorf= pickle.load(handle)\n",
    "#Filtered (above) reference proteins sequence (SeqIO dictionary).\n",
    "#with open(f'./OP16fasta_refprotpsicube_lngstorf.pickle','rb') as handle:\n",
    "#    OPfasta_refprotpsicube_lngstorf= pickle.load(handle)"
   ]
  },
  {
   "cell_type": "code",
   "execution_count": 293,
   "id": "e8f13ebf",
   "metadata": {},
   "outputs": [],
   "source": [
    "OP16_df_altprot_ms0_psdg_psicube=pd.read_pickle(\"OP16_df_altprot_ms0_psdg_psicube.pkl\")\n",
    "OP16_df_refprot_ms0_psicube=pd.read_pickle(\"OP16_df_refprot_ms0_psicube.pkl\")\n",
    "with open(f'./OP16fasta_orig.pickle','rb') as handle:\n",
    "    OPfasta_orig= pickle.load(handle)"
   ]
  },
  {
   "cell_type": "code",
   "execution_count": 294,
   "id": "ee38343a",
   "metadata": {},
   "outputs": [],
   "source": [
    "OP16_df_refprot_ms0_psicube[\"genestableid\"]=[MART95_acss[trx] for trx in list(OP16_df_refprot_ms0_psicube['trxstableid'])]\n",
    "OP16_df_altprot_ms0_psdg_psicube[\"genestableid\"]=[MART95_acss[trx] for trx in list(OP16_df_altprot_ms0_psdg_psicube['trxstableid'])]"
   ]
  },
  {
   "cell_type": "code",
   "execution_count": 307,
   "id": "dbad71e6",
   "metadata": {},
   "outputs": [],
   "source": [
    "#only stranslated psdg\n",
    "OP16_df_altprot_ms0_psdg_psicube_MSalltrx=OP16_df_altprot_ms0_psdg_psicube.loc[OP16_df_altprot_ms0_psdg_psicube[\"trxstableid\"].isin(MSall_psdgUtrx_psi),]"
   ]
  },
  {
   "cell_type": "code",
   "execution_count": 308,
   "id": "bfd26468",
   "metadata": {},
   "outputs": [],
   "source": [
    "#at least MS score 2\n",
    "OP16_df_altprot_ms0_psdg_psicube_MSalltrx_2p=OP16_df_altprot_ms0_psdg_psicube_MSalltrx.loc[OP16_df_altprot_ms0_psdg_psicube_MSalltrx[\"MS score\"]>=2,]"
   ]
  },
  {
   "cell_type": "code",
   "execution_count": 312,
   "id": "101d3fb3",
   "metadata": {},
   "outputs": [],
   "source": [
    "#increas search space by taking genes\n",
    "#PSIfilt95_pairsgenes=[]\n",
    "#for pair in PSIfilt95_pairs:\n",
    "#    if pair[0] in list(OP16_df_altprot_ms0_psdg_psicube_MSalltrx_2p[\"trxstableid\"]):\n",
    "#        PSIfilt95_pairsgenes.append(tuple([MART95_acss[pair[0]],pair[1]]))"
   ]
  },
  {
   "cell_type": "code",
   "execution_count": 326,
   "id": "2fffc095",
   "metadata": {},
   "outputs": [],
   "source": [
    "#filter within trx\n",
    "PSIfilt95_pairstrx_protacc=[]\n",
    "PSIfilt95_pairstrx_real=[]\n",
    "#some pairs may be absent not only in version 95 in general but also in Openprot, as gene/trx with ORF<30 aa are not included in it, or may not contain ORF at all\n",
    "for pair in PSIfilt95_pairstrx:\n",
    "    psdg_protacc=OP16_df_altprot_ms0_psdg_psicube_MSalltrx_2p.loc[OP16_df_altprot_ms0_psdg_psicube_MSalltrx_2p['trxstableid']==pair[0],'protein accession numbers'].values\n",
    "    pg_protacc=OP16_df_refprot_ms0_psicube.loc[OP16_df_refprot_ms0_psicube['trxstableid']==pair[1],'protein accession numbers'].values\n",
    "    if len(psdg_protacc)==0 or len(pg_protacc)==0: #as df previously was filterd on incomplete pairs, just skip them\n",
    "        next\n",
    "    else:\n",
    "        PSIfilt95_pairstrx_protacc.append(tuple([psdg_protacc,pg_protacc]))\n",
    "        PSIfilt95_pairstrx_real.append(pair)"
   ]
  },
  {
   "cell_type": "code",
   "execution_count": 322,
   "id": "6fd23824",
   "metadata": {},
   "outputs": [
    {
     "data": {
      "text/plain": [
       "682"
      ]
     },
     "execution_count": 322,
     "metadata": {},
     "output_type": "execute_result"
    }
   ],
   "source": [
    "len(PSIfilt95_pairstrx_protacc)"
   ]
  },
  {
   "cell_type": "code",
   "execution_count": 173,
   "id": "fb1d2204",
   "metadata": {},
   "outputs": [],
   "source": [
    "#filter the longest orf for each gene\n",
    "#PSIfilt95_pairsgenes_protacc_maxlen=[]\n",
    "#for pairpep in PSIfilt95_pairstrx_protacc:\n",
    "#    peps_psdg=pairpep[0]\n",
    "#    peps_pg=pairpep[1]\n",
    "#    psdg_maxind=OP16_df_altprot_ms0_psdg_psicube.loc[OP16_df_altprot_ms0_psdg_psicube['protein accession numbers'].isin(peps_psdg),'protein length (a.a.)'].idxmax()\n",
    "#    peps_psdg_max=OP16_df_altprot_ms0_psdg_psicube.loc[psdg_maxind,'protein accession numbers']\n",
    "#    pg_maxind=OP16_df_refprot_ms0_psicube.loc[OP16_df_refprot_ms0_psicube['protein accession numbers'].isin(peps_pg),'protein length (a.a.)'].idxmax()\n",
    "#    peps_pg_max=OP16_df_refprot_ms0_psicube.loc[pg_maxind,'protein accession numbers']\n",
    "#    PSIfilt95_pairsgenes_protacc_maxlen.append(tuple([peps_psdg_max,peps_pg_max]))"
   ]
  },
  {
   "cell_type": "code",
   "execution_count": 264,
   "id": "5ec4770f",
   "metadata": {},
   "outputs": [],
   "source": [
    "#pepspsdg=[pep[0] for pep in PSIfilt95_pairsgenes_protacc_maxlen]"
   ]
  },
  {
   "cell_type": "code",
   "execution_count": 267,
   "id": "7de383b8",
   "metadata": {},
   "outputs": [],
   "source": [
    "#OP16_df_altprot_ms0_psdg_psicube.loc[OP16_df_altprot_ms0_psdg_psicube['protein accession numbers'].isin(pepspsdg[0:10]),]"
   ]
  },
  {
   "cell_type": "code",
   "execution_count": 323,
   "id": "80478666",
   "metadata": {},
   "outputs": [],
   "source": [
    "#OP16_df_refprot_ms0_psicube[\"frame\"].value_counts()"
   ]
  },
  {
   "cell_type": "code",
   "execution_count": 324,
   "id": "e2d21d6f",
   "metadata": {},
   "outputs": [],
   "source": [
    "#len(OP_psdgpsicube_maxlen_protacc)"
   ]
  },
  {
   "cell_type": "code",
   "execution_count": 336,
   "id": "2683d86b",
   "metadata": {},
   "outputs": [],
   "source": [
    "#creat all combinations of peptides to filter after\n",
    "ProtAcc_dict={}\n",
    "for peppair,trxpair in zip(PSIfilt95_pairstrx_protacc,PSIfilt95_pairstrx_real):\n",
    "    peppsdglist=list(peppair[0])\n",
    "    peppglist=list(peppair[1])\n",
    "    for i in range(len(peppsdglist)):\n",
    "        for j in range(len(peppglist)):\n",
    "            ProtAcc_dict[(peppsdglist[i], peppglist[j])]=trxpair"
   ]
  },
  {
   "cell_type": "code",
   "execution_count": 337,
   "id": "5111d549",
   "metadata": {},
   "outputs": [
    {
     "data": {
      "text/plain": [
       "862"
      ]
     },
     "execution_count": 337,
     "metadata": {},
     "output_type": "execute_result"
    }
   ],
   "source": [
    "len(ProtAcc_dict)"
   ]
  },
  {
   "cell_type": "code",
   "execution_count": 341,
   "id": "d2361be3",
   "metadata": {},
   "outputs": [
    {
     "name": "stdout",
     "output_type": "stream",
     "text": [
      "0 856 856\n"
     ]
    }
   ],
   "source": [
    "#Select only keys with pseudogenic proteins.\n",
    "OP_psdgpsicube_allprotacc=[psdgprotacc for pair in PSIfilt95_pairstrx_protacc for psdgprotacc in pair[0]]\n",
    "OPfasta_psdgpsicube_allprotacc={}\n",
    "nokey=0\n",
    "nokeylist=[]\n",
    "for ip in OP_psdgpsicube_allprotacc:\n",
    "    key=f\"{ip}|TX=9606\"\n",
    "    if key in OPfasta_orig.keys():\n",
    "        OPfasta_psdgpsicube_allprotacc[key]=OPfasta_orig[key]\n",
    "    else:\n",
    "        nokey+=1\n",
    "        nokeylist.append(ip)\n",
    "print(nokey,len(OPfasta_psdgpsicube_allprotacc.keys()),len(set(OP_psdgpsicube_allprotacc)))"
   ]
  },
  {
   "cell_type": "code",
   "execution_count": 343,
   "id": "526f1e67",
   "metadata": {},
   "outputs": [],
   "source": [
    "#stillnokey=0\n",
    "#for ip in nokeylist:\n",
    "#    otherips=list(OP16_df_altprot_ms0_psdg_psicube.loc[OP16_df_altprot_ms0_psdg_psicube[\"protein accession numbers\"]==ip,\"protein accession (others)\"])[0].split(\";\")\n",
    "#    stillnokey+=1\n",
    "#    for ip2 in otherips:\n",
    "#        key=f\"{ip2}|TX=9606\"\n",
    "#        if key in OPfasta_orig.keys():\n",
    "#            OPfasta_psdgpsicube_maxlen[key]=OPfasta_orig[key]\n",
    "#            PSIfilt95_pairsgenes_protacc_maxlen_dkey=[tuple([ip2,pair[1]]) if pair[0]==ip else pair for pair in PSIfilt95_pairsgenes_protacc_maxlen_dkey] ##substitut key \n",
    "#            stillnokey-=1\n",
    "#print(stillnokey,len(OPfasta_psdgpsicube_maxlen.keys()))"
   ]
  },
  {
   "cell_type": "code",
   "execution_count": 351,
   "id": "f7d79fd6",
   "metadata": {},
   "outputs": [],
   "source": [
    "#with open(f'./OP16fasta_psdgpsicube_allprotacc.pickle','wb') as handle:\n",
    "    pickle.dump(OPfasta_psdgpsicube_allprotacc, handle, protocol=pickle.HIGHEST_PROTOCOL)\n",
    "    handle.close()"
   ]
  },
  {
   "cell_type": "code",
   "execution_count": 372,
   "id": "81ea47a0",
   "metadata": {},
   "outputs": [
    {
     "name": "stdout",
     "output_type": "stream",
     "text": [
      "679 6 457\n"
     ]
    }
   ],
   "source": [
    "#Select only keys with canonical proteins.\n",
    "OP_pgpsicube_allprotacc=[pgprotacc for pair in PSIfilt95_pairstrx_protacc for pgprotacc in pair[1]]\n",
    "OPfasta_pgpsicube_allprotacc={}\n",
    "nokey=0\n",
    "nokeylist=[]\n",
    "for ip in OP_pgpsicube_allprotacc:\n",
    "    key=f\"{ip}|TX=9606\"\n",
    "    if key in OPfasta_orig.keys():\n",
    "        OPfasta_pgpsicube_allprotacc[key]=OPfasta_orig[key]\n",
    "    else:\n",
    "        nokey+=1\n",
    "        nokeylist.append(ip)\n",
    "print(nokey,len(OPfasta_pgpsicube_allprotacc.keys()),len(set(OP_pgpsicube_allprotacc)))"
   ]
  },
  {
   "cell_type": "code",
   "execution_count": 373,
   "id": "d8f2326c",
   "metadata": {},
   "outputs": [],
   "source": [
    "ProtAcc_dict_dkey=ProtAcc_dict.copy()"
   ]
  },
  {
   "cell_type": "code",
   "execution_count": 374,
   "id": "e8c5ab4d",
   "metadata": {},
   "outputs": [
    {
     "name": "stdout",
     "output_type": "stream",
     "text": [
      "0 437\n"
     ]
    }
   ],
   "source": [
    "#Some keys are absent because proteins have several protein accessions. \n",
    "#Other protein accessions are writen in \"protein accession (others)\" column. \n",
    "#Find the right accession and add it to dictionary.\n",
    "stillnokey=0\n",
    "for ip in nokeylist:\n",
    "    otherips=list(OP16_df_refprot_ms0_psicube.loc[OP16_df_refprot_ms0_psicube[\"protein accession numbers\"]==ip,\"protein accession (others)\"])[0].split(\";\")\n",
    "    stillnokey+=1\n",
    "    for ip2 in otherips:\n",
    "        key=f\"{ip2}|TX=9606\"\n",
    "        if key in OPfasta_orig.keys():\n",
    "            OPfasta_pgpsicube_allprotacc[key]=OPfasta_orig[key]\n",
    "            #ProtAcc_dict_dkey={tuple([pair[0],ip2]):ProtAcc_dict[pair] if pair[1]==ip else pair:ProtAcc_dict[pair] for pair in ProtAcc_dict.keys()}##substitut key \n",
    "            ProtAcc_dict_dkey={ (tuple([pair[0],ip2]) if pair[1]==ip else pair):ProtAcc_dict_dkey[pair] for pair in ProtAcc_dict_dkey.keys() }\n",
    "            #PSIfilt95_pairsgenes_protacc_maxlen_dkey=[tuple([pair[0],ip2]) if pair[1]==ip else pair for pair in PSIfilt95_pairsgenes_protacc_maxlen_dkey] \n",
    "            stillnokey-=1\n",
    "print(stillnokey,len(OPfasta_pgpsicube_allprotacc.keys()))"
   ]
  },
  {
   "cell_type": "code",
   "execution_count": 377,
   "id": "c7b733e9",
   "metadata": {},
   "outputs": [],
   "source": [
    "#with open(f'./OP16fasta_pgpsicube_allprotacc.pickle','wb') as handle:\n",
    "    pickle.dump(OPfasta_pgpsicube_allprotacc, handle, protocol=pickle.HIGHEST_PROTOCOL)\n",
    "    handle.close()"
   ]
  },
  {
   "cell_type": "code",
   "execution_count": 376,
   "id": "ecc658b8",
   "metadata": {},
   "outputs": [],
   "source": [
    "#with open(\"./ProtAcc_dict_dkey.pkl\",\"wb\") as f:\n",
    "    pickle.dump(ProtAcc_dict_dkey,f, protocol=pickle.HIGHEST_PROTOCOL)\n",
    "    f.close"
   ]
  },
  {
   "cell_type": "code",
   "execution_count": 204,
   "id": "a2e75f4e",
   "metadata": {},
   "outputs": [],
   "source": []
  },
  {
   "cell_type": "code",
   "execution_count": 418,
   "id": "47ad44c2",
   "metadata": {},
   "outputs": [],
   "source": [
    "OPpsi_pepseqalignd_ms2p={}\n",
    "for pair in ProtAcc_dict_dkey.keys():\n",
    "    pep_psdgkey=f\"{pair[0]}|TX=9606\"\n",
    "    pep_pgkey=f\"{pair[1]}|TX=9606\"\n",
    "    pep_psdg_seq=str(OPfasta_psdgpsicube_allprotacc[pep_psdgkey].seq)\n",
    "    pep_pg_seq=str(OPfasta_pgpsicube_allprotacc[pep_pgkey].seq)\n",
    "    #Selenocysteine(S) to cysteine(C) as it is absent in substitution matrix\n",
    "    if \"U\" in pep_psdg_seq:\n",
    "        pep_psdg_seq=pep_psdg_seq.replace(\"U\",\"C\")\n",
    "    if \"U\" in pep_pg_seq:\n",
    "        pep_pg_seq=pep_pg_seq.replace(\"U\",\"C\")\n",
    "    alignments = alignerPROT.align(pep_psdg_seq, pep_pg_seq)\n",
    "    alignment = alignments[0]\n",
    "    lines = str(alignment).split(\"\\n\")\n",
    "    psdg_alg=lines[0]\n",
    "    pg_alg=lines[2] \n",
    "    OPpsi_pepseqalignd_ms2p[pair]={}\n",
    "    OPpsi_pepseqalignd_ms2p[pair][\"psdg_align\"]=psdg_alg\n",
    "    OPpsi_pepseqalignd_ms2p[pair][\"pg_align\"]=pg_alg\n",
    "    stind=align_start(psdg_alg)\n",
    "    endind=align_end(psdg_alg)\n",
    "    OPpsi_pepseqalignd_ms2p[pair][\"ident\"]=(1-hamming(list(psdg_alg[stind:endind]),list(pg_alg[stind:endind])))"
   ]
  },
  {
   "cell_type": "code",
   "execution_count": 419,
   "id": "db88710b",
   "metadata": {},
   "outputs": [],
   "source": [
    "#with open(f'./OPpsi_pepseqalignd_ms2p.pickle','wb') as handle:\n",
    "    pickle.dump(OPpsi_pepseqalignd_ms2p, handle, protocol=pickle.HIGHEST_PROTOCOL)\n",
    "    handle.close()"
   ]
  },
  {
   "cell_type": "code",
   "execution_count": 420,
   "id": "e665844b",
   "metadata": {},
   "outputs": [
    {
     "data": {
      "text/plain": [
       "862"
      ]
     },
     "execution_count": 420,
     "metadata": {},
     "output_type": "execute_result"
    }
   ],
   "source": [
    "len(OPpsi_pepseqalignd_ms2p.keys())"
   ]
  },
  {
   "cell_type": "code",
   "execution_count": 423,
   "id": "34a5618a",
   "metadata": {},
   "outputs": [
    {
     "data": {
      "text/plain": [
       "682"
      ]
     },
     "execution_count": 423,
     "metadata": {},
     "output_type": "execute_result"
    }
   ],
   "source": [
    "len(OPpsi_pepseqalignd_ms2p_maxident)"
   ]
  },
  {
   "cell_type": "code",
   "execution_count": 437,
   "id": "cc855be9",
   "metadata": {},
   "outputs": [],
   "source": [
    "OPpsi_pep_ident1=[]\n",
    "for key in OPpsi_pepseqalignd_ms2p_maxident.keys():\n",
    "    OPpsi_pep_ident1.append(OPpsi_pepseqalignd_ms2p_maxident[key][\"ident\"])"
   ]
  },
  {
   "cell_type": "code",
   "execution_count": 438,
   "id": "cde917c5",
   "metadata": {},
   "outputs": [],
   "source": [
    "OPpsi_pep_ident2=[]\n",
    "for key in OPpsi_pepseqalignd_ms2p.keys():\n",
    "    OPpsi_pep_ident2.append(OPpsi_pepseqalignd_ms2p[key][\"ident\"])"
   ]
  },
  {
   "cell_type": "code",
   "execution_count": 440,
   "id": "76815732",
   "metadata": {},
   "outputs": [
    {
     "data": {
      "text/plain": [
       "(0.43193196482966273, 0.3841322682695824)"
      ]
     },
     "execution_count": 440,
     "metadata": {},
     "output_type": "execute_result"
    }
   ],
   "source": [
    "np.mean(OPpsi_pep_ident1),np.mean(OPpsi_pep_ident2)"
   ]
  },
  {
   "cell_type": "code",
   "execution_count": 441,
   "id": "343c4814",
   "metadata": {},
   "outputs": [
    {
     "data": {
      "image/png": "[encoded data removed]",
      "text/plain": [
       "<Figure size 432x288 with 1 Axes>"
      ]
     },
     "metadata": {
      "needs_background": "light"
     },
     "output_type": "display_data"
    }
   ],
   "source": [
    "plt.hist(OPpsi_pep_ident1,bins=100);"
   ]
  },
  {
   "cell_type": "code",
   "execution_count": null,
   "id": "03e681e4",
   "metadata": {},
   "outputs": [],
   "source": [
    "#code ..."
   ]
  },
  {
   "cell_type": "code",
   "execution_count": 476,
   "id": "89b6789e",
   "metadata": {},
   "outputs": [],
   "source": [
    "with open(f'./OP16psi_pepseqalignd_ms2p_blast.pickle','rb') as handle:\n",
    "    OPpsi_pepseqalignd_ms2p_blast= pickle.load(handle)"
   ]
  },
  {
   "cell_type": "code",
   "execution_count": 477,
   "id": "640b6ac1",
   "metadata": {},
   "outputs": [],
   "source": [
    "nohit=0\n",
    "for key in OPpsi_pepseqalignd_ms2p_blast.keys():\n",
    "    if len(OPpsi_pepseqalignd_ms2p_blast[key])==0:\n",
    "        nohit+=1\n",
    "        OPpsi_pepseqalignd_ms2p_blast[key][\"ident\"]=0#np.nan\n",
    "    else:\n",
    "        seq=OPpsi_pepseqalignd_ms2p_blast[key][\"match\"]\n",
    "        OPpsi_pepseqalignd_ms2p_blast[key][\"ident\"]=len(re.findall('[A-Z]', seq))/len(seq)"
   ]
  },
  {
   "cell_type": "code",
   "execution_count": 478,
   "id": "f3efd72a",
   "metadata": {},
   "outputs": [
    {
     "data": {
      "text/plain": [
       "27"
      ]
     },
     "execution_count": 478,
     "metadata": {},
     "output_type": "execute_result"
    }
   ],
   "source": [
    "nohit"
   ]
  },
  {
   "cell_type": "code",
   "execution_count": 479,
   "id": "ae570591",
   "metadata": {},
   "outputs": [],
   "source": [
    "OPpsi_pepseqalignd_ms2p_blast_maxident={}\n",
    "for trxpair in PSIfilt95_pairstrx_real:\n",
    "    peppairs_list=[]\n",
    "    for peppairs in ProtAcc_dict_dkey.keys():\n",
    "        if ProtAcc_dict_dkey[peppairs]==trxpair:\n",
    "            peppairs_list.append(peppairs)\n",
    "    ident_list=[]\n",
    "    for peppairs in peppairs_list:\n",
    "        ident_list.append(OPpsi_pepseqalignd_ms2p_blast[peppairs][\"ident\"])\n",
    "    #if np.sum(ident_list)==np.nan\n",
    "    peppairs_maxident=peppairs_list[ident_list.index(np.max(ident_list))]\n",
    "    OPpsi_pepseqalignd_ms2p_blast_maxident[peppairs_maxident]=OPpsi_pepseqalignd_ms2p_blast[peppairs_maxident]"
   ]
  },
  {
   "cell_type": "code",
   "execution_count": 487,
   "id": "ca6b940e",
   "metadata": {},
   "outputs": [],
   "source": [
    "values=[OPpsi_pepseqalignd_ms2p_blast_maxident[key][\"ident\"] for key in OPpsi_pepseqalignd_ms2p_blast_maxident.keys()]"
   ]
  },
  {
   "cell_type": "code",
   "execution_count": 488,
   "id": "a455fab8",
   "metadata": {},
   "outputs": [
    {
     "data": {
      "text/plain": [
       "0.5433849591266984"
      ]
     },
     "execution_count": 488,
     "metadata": {},
     "output_type": "execute_result"
    }
   ],
   "source": [
    "np.mean(values)"
   ]
  },
  {
   "cell_type": "code",
   "execution_count": 489,
   "id": "83cb0cff",
   "metadata": {},
   "outputs": [],
   "source": [
    "values2=values.copy()\n",
    "values2.remove(0)"
   ]
  },
  {
   "cell_type": "code",
   "execution_count": 490,
   "id": "228c52a9",
   "metadata": {},
   "outputs": [
    {
     "data": {
      "text/plain": [
       "0.5441828812399536"
      ]
     },
     "execution_count": 490,
     "metadata": {},
     "output_type": "execute_result"
    }
   ],
   "source": [
    "np.mean(values2)"
   ]
  }
 ],
 "metadata": {
  "kernelspec": {
   "display_name": "Python 3 (ipykernel)",
   "language": "python",
   "name": "python3"
  },
  "language_info": {
   "codemirror_mode": {
    "name": "ipython",
    "version": 3
   },
   "file_extension": ".py",
   "mimetype": "text/x-python",
   "name": "python",
   "nbconvert_exporter": "python",
   "pygments_lexer": "ipython3",
   "version": "3.9.12"
  }
 },
 "nbformat": 4,
 "nbformat_minor": 5
}
