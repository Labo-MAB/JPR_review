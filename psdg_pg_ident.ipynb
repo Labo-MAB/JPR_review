{
 "cells": [
  {
   "cell_type": "code",
   "execution_count": 395,
   "id": "59f7bf9f",
   "metadata": {},
   "outputs": [],
   "source": [
    "import zipfile\n",
    "import numpy as np\n",
    "import pandas as pd\n",
    "import gzip\n",
    "import shutil\n",
    "from Bio import SeqIO\n",
    "import os\n",
    "import pickle\n",
    "from itertools import chain\n",
    "from scipy import stats\n",
    "import re\n",
    "import subprocess\n",
    "from Bio.Blast import NCBIXML"
   ]
  },
  {
   "cell_type": "markdown",
   "id": "3dc02558",
   "metadata": {},
   "source": [
    "Note, to repeat the analysis you will need to install the standalone BLAST+ (https://www.ncbi.nlm.nih.gov/books/NBK52640/)"
   ]
  },
  {
   "cell_type": "code",
   "execution_count": null,
   "id": "a135cf6b",
   "metadata": {},
   "outputs": [],
   "source": [
    "#Load pickles that were generated in other files \n",
    "with open('./PSICUBE_dict.pickle', 'rb') as handle:\n",
    "    PSICUBE_dict = pickle.load(handle)\n",
    "OP16_df_altprot_ms0_psdg_psicube=pd.read_pickle(\"OP16_df_altprot_ms0_psdg_psicube.pkl\")\n",
    "OP16_df_refprot_ms0_psicube=pd.read_pickle(\"OP16_df_refprot_ms0_psicube.pkl\")\n",
    "with open(f'./OP16fasta_orig.pickle','rb') as handle:\n",
    "    OPfasta_orig= pickle.load(handle)"
   ]
  },
  {
   "cell_type": "code",
   "execution_count": 4,
   "id": "481e10e7",
   "metadata": {},
   "outputs": [],
   "source": [
    "#Load pickles that were generated below\n",
    "with open('./MART95fna_orig.pickle', 'rb') as handle:\n",
    "    MART95fna_orig=pickle.load(handle)\n",
    "with open(f'./OP16fasta_psdgpsicube_allprotacc.pickle','rb') as handle:\n",
    "    OPfasta_psdgpsicube_allprotacc=pickle.load(handle)\n",
    "with open(f'./OP16fasta_pgpsicube_allprotacc.pickle','rb') as handle:\n",
    "    OPfasta_pgpsicube_allprotacc=pickle.load(handle)\n",
    "with open(\"./ProtAcc_dict_dkey.pkl\",\"rb\") as f:\n",
    "    ProtAcc_dict_dkey=pickle.load(f)\n",
    "with open(f'./OP16psi_pepseqalignd_ms2p_blast.pickle','rb') as handle:\n",
    "    OPpsi_pepseqalignd_ms2p_blast=pickle.load(handle)  \n",
    "with open(f'./PSIms2p_unproc_seq.pickle','rb') as handle:\n",
    "    PSIms2p_unproc_seq=pickle.load(handle)\n",
    "with open(f'./MART95fasta_psims2_orig.pickle','rb') as handle:\n",
    "    MART95fasta_psims2_orig=pickle.load(handle)\n",
    "with open(f'./PSIms2p_unproc_exon_seq.pickle','rb') as handle:\n",
    "    PSIms2p_unproc_exon_seq=pickle.load(handle)\n",
    "with open(f'./PSIms2p_proc_seq.pickle','rb') as handle:\n",
    "    PSIms2p_proc_seq=pickle.load(handle)\n",
    "with open(f'./PSIms2p_proc_align.pickle','rb') as handle:\n",
    "    PSIms2p_proc_align= pickle.load(handle)\n",
    "with open(f'./PSIms2p_unproc_exon_align.pickle','rb') as handle:\n",
    "    PSIms2p_unproc_align= pickle.load(handle)"
   ]
  },
  {
   "cell_type": "markdown",
   "id": "ca740cf5",
   "metadata": {},
   "source": [
    "The following code calculates identity percent between (1) pseudogenic proteins and proteins from parental genes; (2) pseudogenes and parental genes. For the proteins, at first all the predicted pseudogenic ORFs per transcript were considered. Then only those with lower identity percent were filtered out. For the genes, pseudogenes were classified by the nature of origin (processed and unprocessed). Processed pseudogenes were compared to cDNAs of their parental genes' transcripts. Unprocessed pseudogenes and their respective parental genes were compared by their concatenated exons. Alignment was done with blastp (for proteins) and blastn (for genes).\n",
    "\n",
    "Pairs are defined by database psiCube. Only pseudogenes with detected unique peptides (with at least 2 unique peptides, and with a single unique peptide in at least 3 independent datasets) are considered in the analysis."
   ]
  },
  {
   "cell_type": "code",
   "execution_count": 69,
   "id": "96b0b0f3",
   "metadata": {},
   "outputs": [],
   "source": [
    "#Import fasta file with genes sequences. Ensemble 95, compatible with OpenProt v1.6\n",
    "MART95fna_file=\"./mart95fasta_export.txt\""
   ]
  },
  {
   "cell_type": "code",
   "execution_count": 70,
   "id": "00aa450a",
   "metadata": {},
   "outputs": [],
   "source": [
    "#Unzip\n",
    "with gzip.open(f\"{MART95fna_file}.gz\", 'rb') as f_in:\n",
    "    with open(MART95fna_file, 'wb') as f_out:\n",
    "        shutil.copyfileobj(f_in, f_out)"
   ]
  },
  {
   "cell_type": "code",
   "execution_count": 72,
   "id": "3c185ba5",
   "metadata": {},
   "outputs": [],
   "source": [
    "#Parse to a dictionary\n",
    "input_file = open(MART95fna_file)\n",
    "MART95fna_orig = SeqIO.to_dict(SeqIO.parse(input_file, \"fasta\"))"
   ]
  },
  {
   "cell_type": "code",
   "execution_count": 73,
   "id": "0e17a328",
   "metadata": {},
   "outputs": [],
   "source": [
    "#with open('./MART95fna_orig.pickle', 'wb') as handle:\n",
    "#    pickle.dump(MART95fna_orig, handle, protocol=pickle.HIGHEST_PROTOCOL)"
   ]
  },
  {
   "cell_type": "code",
   "execution_count": 84,
   "id": "aa649ce0",
   "metadata": {},
   "outputs": [],
   "source": [
    "#Select pseudogene transcript IDs and protein coding gene IDs\n",
    "MART95fna_protcodgeneid=[key.split(\"|\")[0] for key in MART95fna_orig.keys() if key.split(\"|\")[3]==\"protein_coding\"]\n",
    "MART95fna_psdgtrxid=[key.split(\"|\")[1].split(\";\") for key in MART95fna_orig.keys() if \"pseudogene\" in key.split(\"|\")[3]]\n",
    "MART95fna_psdgtrxid=list(chain.from_iterable(MART95fna_psdgtrxid))"
   ]
  },
  {
   "cell_type": "code",
   "execution_count": 114,
   "id": "7c8beac8",
   "metadata": {},
   "outputs": [],
   "source": [
    "#Get protein coding transcript IDs\n",
    "MART95fna_protcodtrxid=[key.split(\"|\")[1].split(\";\") for key in MART95fna_orig.keys()  if key.split(\"|\")[3]==\"protein_coding\"]\n",
    "MART95fna_protcodtrxid=list(chain.from_iterable(MART95fna_protcodtrxid))"
   ]
  },
  {
   "cell_type": "code",
   "execution_count": 115,
   "id": "767d6a58",
   "metadata": {},
   "outputs": [],
   "source": [
    "#Define pseudogene - parental TRANSCRIPT pairs, filter out version incompatibilities and incomplete pairs.\n",
    "pairs_trx=[(k.split(\"_\")[0],k.split(\"_\")[2]) for k in PSICUBE_dict.keys()]\n",
    "PSIfilt95_pairstrx=pairs_trx.copy()\n",
    "for pair in pairs_trx:\n",
    "    if pair[0] not in MART95fna_psdgtrxid or pair[1] not in MART95fna_protcodtrxid:\n",
    "        PSIfilt95_pairstrx.remove(pair)"
   ]
  },
  {
   "cell_type": "code",
   "execution_count": 603,
   "id": "80c01c46",
   "metadata": {},
   "outputs": [
    {
     "data": {
      "text/plain": [
       "(8783, 10371)"
      ]
     },
     "execution_count": 603,
     "metadata": {},
     "output_type": "execute_result"
    }
   ],
   "source": [
    "len(PSIfilt95_pairstrx),len(pairs_trx) #around 1600 pairs were filtered out"
   ]
  },
  {
   "cell_type": "code",
   "execution_count": 77,
   "id": "e9156d47",
   "metadata": {},
   "outputs": [],
   "source": [
    "#Dictionary that maps transcript IDs to gene IDs\n",
    "MART95_acss={}\n",
    "for key in MART95fna_orig.keys():\n",
    "    gene=key.split(\"|\")[0]\n",
    "    trxlist=key.split(\"|\")[1].split(\";\")\n",
    "    for trx in trxlist:\n",
    "        MART95_acss[trx]=gene"
   ]
  },
  {
   "cell_type": "markdown",
   "id": "b888cb8e",
   "metadata": {},
   "source": [
    "(1) calculate **protein** identity percent"
   ]
  },
  {
   "cell_type": "code",
   "execution_count": 278,
   "id": "6c947d4c",
   "metadata": {},
   "outputs": [],
   "source": [
    "#Load pseudogenes, that have at least 2 unique peptides annotated in OpenProt,\n",
    "#and with a single unique peptide in at least 3 independent datasets.\n",
    "#See \"reported_values.ipynb\"\n",
    "with open(f'./MS3up1_psdgU.pkl','rb') as handle:\n",
    "    MS3up1_psdgU= pickle.load(handle)\n",
    "with open(f'./MS2p_psdgU.pkl','rb') as handle:\n",
    "    MS2p_psdgU= pickle.load(handle)"
   ]
  },
  {
   "cell_type": "code",
   "execution_count": 287,
   "id": "a9574c3c",
   "metadata": {},
   "outputs": [],
   "source": [
    "#Merge two lists\n",
    "MSall_psdgU=list(set(MS3up1_psdgU+MS2p_psdgU))"
   ]
  },
  {
   "cell_type": "code",
   "execution_count": 288,
   "id": "3c842216",
   "metadata": {},
   "outputs": [],
   "source": [
    "#Map transcript IDs\n",
    "MSall_psdgUtrx=[trx for gene in MSall_psdgU for trx in MART95_acss.keys() if gene==MART95_acss[trx]] #all trx for each psdg"
   ]
  },
  {
   "cell_type": "code",
   "execution_count": 284,
   "id": "867d0e12",
   "metadata": {},
   "outputs": [],
   "source": [
    "#Select pseudogene transcripts from psiCube\n",
    "psi_psdgtrx=[k.split(\"_\")[0] for k in PSICUBE_dict.keys()]"
   ]
  },
  {
   "cell_type": "code",
   "execution_count": 289,
   "id": "6742d7cb",
   "metadata": {},
   "outputs": [],
   "source": [
    "#Filter out transcripts, that are not in psiCube\n",
    "MSall_psdgUtrx_psi=[trx for trx in MSall_psdgUtrx if trx in psi_psdgtrx]"
   ]
  },
  {
   "cell_type": "code",
   "execution_count": 290,
   "id": "a6ed015e",
   "metadata": {},
   "outputs": [
    {
     "data": {
      "text/plain": [
       "1279"
      ]
     },
     "execution_count": 290,
     "metadata": {},
     "output_type": "execute_result"
    }
   ],
   "source": [
    "len(MSall_psdgUtrx_psi)"
   ]
  },
  {
   "cell_type": "code",
   "execution_count": 604,
   "id": "e8f13ebf",
   "metadata": {},
   "outputs": [],
   "source": [
    "#Load OpenProt .tsv data about predicted pseudogenic ORFs and reference (canonical) CDS.\n",
    "#Both have transcripts that overlap the ones of psiCube pairs.\n",
    "#See \"co_elution.ipynb\"\n",
    "OP16_df_altprot_ms0_psdg_psicube=pd.read_pickle(\"OP16_df_altprot_ms0_psdg_psicube.pkl\")\n",
    "OP16_df_refprot_ms0_psicube=pd.read_pickle(\"OP16_df_refprot_ms0_psicube.pkl\")\n",
    "#Load OpenProt fasta file with protein sequences\n",
    "with open(f'./OP16fasta_orig.pickle','rb') as handle:\n",
    "    OPfasta_orig= pickle.load(handle)"
   ]
  },
  {
   "cell_type": "code",
   "execution_count": 294,
   "id": "ee38343a",
   "metadata": {},
   "outputs": [],
   "source": [
    "#Map gene IDs\n",
    "OP16_df_refprot_ms0_psicube[\"genestableid\"]=[MART95_acss[trx] for trx in list(OP16_df_refprot_ms0_psicube['trxstableid'])]\n",
    "OP16_df_altprot_ms0_psdg_psicube[\"genestableid\"]=[MART95_acss[trx] for trx in list(OP16_df_altprot_ms0_psdg_psicube['trxstableid'])]"
   ]
  },
  {
   "cell_type": "code",
   "execution_count": 307,
   "id": "dbad71e6",
   "metadata": {},
   "outputs": [],
   "source": [
    "#Select only detected pseudogenic proteins\n",
    "OP16_df_altprot_ms0_psdg_psicube_MSalltrx=OP16_df_altprot_ms0_psdg_psicube.loc[OP16_df_altprot_ms0_psdg_psicube[\"trxstableid\"].isin(MSall_psdgUtrx_psi),]"
   ]
  },
  {
   "cell_type": "code",
   "execution_count": 308,
   "id": "bfd26468",
   "metadata": {},
   "outputs": [],
   "source": [
    "#Filter out ORFs with MS score less than 2\n",
    "OP16_df_altprot_ms0_psdg_psicube_MSalltrx_2p=OP16_df_altprot_ms0_psdg_psicube_MSalltrx.loc[OP16_df_altprot_ms0_psdg_psicube_MSalltrx[\"MS score\"]>=2,]"
   ]
  },
  {
   "cell_type": "code",
   "execution_count": 326,
   "id": "2fffc095",
   "metadata": {},
   "outputs": [],
   "source": [
    "#Filter psiCube transcript pairs by presence in OpenProt and save protein accession numbers\n",
    "PSIfilt95_pairstrx_protacc=[]\n",
    "PSIfilt95_pairstrx_real=[]\n",
    "#Some pairs may be absent not only in Ensemble 95 in general but also in OpenProt, as gene/trx ratios with ORF<30 aa are not included in it, or may not contain ORFs at all\n",
    "for pair in PSIfilt95_pairstrx:\n",
    "    psdg_protacc=OP16_df_altprot_ms0_psdg_psicube_MSalltrx_2p.loc[OP16_df_altprot_ms0_psdg_psicube_MSalltrx_2p['trxstableid']==pair[0],'protein accession numbers'].values\n",
    "    pg_protacc=OP16_df_refprot_ms0_psicube.loc[OP16_df_refprot_ms0_psicube['trxstableid']==pair[1],'protein accession numbers'].values\n",
    "    if len(psdg_protacc)==0 or len(pg_protacc)==0: #as df previously was filtered on incomplete pairs, just skip them\n",
    "        next\n",
    "    else:\n",
    "        PSIfilt95_pairstrx_protacc.append(tuple([psdg_protacc,pg_protacc])) #Each pair has a list of protein accetions to filter after\n",
    "        PSIfilt95_pairstrx_real.append(pair)"
   ]
  },
  {
   "cell_type": "code",
   "execution_count": 322,
   "id": "6fd23824",
   "metadata": {},
   "outputs": [
    {
     "data": {
      "text/plain": [
       "682"
      ]
     },
     "execution_count": 322,
     "metadata": {},
     "output_type": "execute_result"
    }
   ],
   "source": [
    "len(PSIfilt95_pairstrx_protacc)"
   ]
  },
  {
   "cell_type": "code",
   "execution_count": 336,
   "id": "2683d86b",
   "metadata": {},
   "outputs": [],
   "source": [
    "#Create all combinations of peptides to filter by highest identity percent later\n",
    "ProtAcc_dict={}\n",
    "for peppair,trxpair in zip(PSIfilt95_pairstrx_protacc,PSIfilt95_pairstrx_real):\n",
    "    peppsdglist=list(peppair[0])\n",
    "    peppglist=list(peppair[1])\n",
    "    for i in range(len(peppsdglist)):\n",
    "        for j in range(len(peppglist)):\n",
    "            ProtAcc_dict[(peppsdglist[i], peppglist[j])]=trxpair"
   ]
  },
  {
   "cell_type": "code",
   "execution_count": 337,
   "id": "5111d549",
   "metadata": {},
   "outputs": [
    {
     "data": {
      "text/plain": [
       "862"
      ]
     },
     "execution_count": 337,
     "metadata": {},
     "output_type": "execute_result"
    }
   ],
   "source": [
    "len(ProtAcc_dict)"
   ]
  },
  {
   "cell_type": "code",
   "execution_count": 341,
   "id": "d2361be3",
   "metadata": {},
   "outputs": [
    {
     "name": "stdout",
     "output_type": "stream",
     "text": [
      "0 856 856\n"
     ]
    }
   ],
   "source": [
    "#Select only keys with pseudogenic proteins.\n",
    "OP_psdgpsicube_allprotacc=[psdgprotacc for pair in PSIfilt95_pairstrx_protacc for psdgprotacc in pair[0]]\n",
    "OPfasta_psdgpsicube_allprotacc={}\n",
    "nokey=0\n",
    "nokeylist=[]\n",
    "for ip in OP_psdgpsicube_allprotacc:\n",
    "    key=f\"{ip}|TX=9606\"\n",
    "    if key in OPfasta_orig.keys():\n",
    "        OPfasta_psdgpsicube_allprotacc[key]=OPfasta_orig[key]\n",
    "    else:\n",
    "        nokey+=1\n",
    "        nokeylist.append(ip)\n",
    "print(nokey,len(OPfasta_psdgpsicube_allprotacc.keys()),len(set(OP_psdgpsicube_allprotacc)))"
   ]
  },
  {
   "cell_type": "code",
   "execution_count": 351,
   "id": "f7d79fd6",
   "metadata": {},
   "outputs": [],
   "source": [
    "#with open(f'./OP16fasta_psdgpsicube_allprotacc.pickle','wb') as handle:\n",
    "    pickle.dump(OPfasta_psdgpsicube_allprotacc, handle, protocol=pickle.HIGHEST_PROTOCOL)\n",
    "    handle.close()"
   ]
  },
  {
   "cell_type": "code",
   "execution_count": 372,
   "id": "81ea47a0",
   "metadata": {},
   "outputs": [
    {
     "name": "stdout",
     "output_type": "stream",
     "text": [
      "679 6 457\n"
     ]
    }
   ],
   "source": [
    "#Select only keys with canonical proteins.\n",
    "OP_pgpsicube_allprotacc=[pgprotacc for pair in PSIfilt95_pairstrx_protacc for pgprotacc in pair[1]]\n",
    "OPfasta_pgpsicube_allprotacc={}\n",
    "nokey=0\n",
    "nokeylist=[]\n",
    "for ip in OP_pgpsicube_allprotacc:\n",
    "    key=f\"{ip}|TX=9606\"\n",
    "    if key in OPfasta_orig.keys():\n",
    "        OPfasta_pgpsicube_allprotacc[key]=OPfasta_orig[key]\n",
    "    else:\n",
    "        nokey+=1\n",
    "        nokeylist.append(ip)\n",
    "print(nokey,len(OPfasta_pgpsicube_allprotacc.keys()),len(set(OP_pgpsicube_allprotacc))) "
   ]
  },
  {
   "cell_type": "code",
   "execution_count": 373,
   "id": "d8f2326c",
   "metadata": {},
   "outputs": [],
   "source": [
    "ProtAcc_dict_dkey=ProtAcc_dict.copy() #Make a copy of the dictionary to change absent keys to real ones (those present in fasta)"
   ]
  },
  {
   "cell_type": "code",
   "execution_count": 374,
   "id": "e8c5ab4d",
   "metadata": {},
   "outputs": [
    {
     "name": "stdout",
     "output_type": "stream",
     "text": [
      "0 437\n"
     ]
    }
   ],
   "source": [
    "#Some keys are absent because proteins have several protein accessions. \n",
    "#Other protein accessions are writen in \"protein accession (others)\" column. \n",
    "#Find the right accession and add it to the dictionary.\n",
    "stillnokey=0\n",
    "for ip in nokeylist:\n",
    "    otherips=list(OP16_df_refprot_ms0_psicube.loc[OP16_df_refprot_ms0_psicube[\"protein accession numbers\"]==ip,\"protein accession (others)\"])[0].split(\";\")\n",
    "    stillnokey+=1\n",
    "    for ip2 in otherips:\n",
    "        key=f\"{ip2}|TX=9606\"\n",
    "        if key in OPfasta_orig.keys():\n",
    "            OPfasta_pgpsicube_allprotacc[key]=OPfasta_orig[key]\n",
    "            #substitute key\n",
    "            ProtAcc_dict_dkey={ (tuple([pair[0],ip2]) if pair[1]==ip else pair):ProtAcc_dict_dkey[pair] for pair in ProtAcc_dict_dkey.keys() }\n",
    "            stillnokey-=1\n",
    "print(stillnokey,len(OPfasta_pgpsicube_allprotacc.keys()))"
   ]
  },
  {
   "cell_type": "code",
   "execution_count": 377,
   "id": "c7b733e9",
   "metadata": {},
   "outputs": [],
   "source": [
    "#with open(f'./OP16fasta_pgpsicube_allprotacc.pickle','wb') as handle:\n",
    "    pickle.dump(OPfasta_pgpsicube_allprotacc, handle, protocol=pickle.HIGHEST_PROTOCOL)\n",
    "    handle.close()"
   ]
  },
  {
   "cell_type": "code",
   "execution_count": 376,
   "id": "ecc658b8",
   "metadata": {},
   "outputs": [],
   "source": [
    "#with open(\"./ProtAcc_dict_dkey.pkl\",\"wb\") as f:\n",
    "    pickle.dump(ProtAcc_dict_dkey,f, protocol=pickle.HIGHEST_PROTOCOL)\n",
    "    f.close"
   ]
  },
  {
   "cell_type": "code",
   "execution_count": null,
   "id": "8f5b90c0",
   "metadata": {},
   "outputs": [],
   "source": [
    "#Function that saves one sequence to a fasta file\n",
    "def several_seq_to_fasta(seqstr,filename,key): #input_flag: reference or query            \n",
    "    with open(filename, \"w\") as file:\n",
    "        header=\"\".join([\">\",key,\"\\n\"])\n",
    "        seq=\"\".join([seqstr,\"\\n\"])\n",
    "        file.writelines([header,seq])\n",
    "    file.close()"
   ]
  },
  {
   "cell_type": "code",
   "execution_count": null,
   "id": "7ab5f005",
   "metadata": {},
   "outputs": [],
   "source": [
    "#Do balstp\n",
    "OPpsi_pepseqalignd_ms2p_blast={}\n",
    "for pair in ProtAcc_dict_dkey.keys():\n",
    "    print(pair,list(ProtAcc_dict_dkey.keys()).index(pair),len(ProtAcc_dict_dkey.keys()))\n",
    "    pep_psdgkey=f\"{pair[0]}|TX=9606\"\n",
    "    pep_pgkey=f\"{pair[1]}|TX=9606\"\n",
    "    pep_psdg_seq=str(OPfasta_psdgpsicube_allprotacc[pep_psdgkey].seq)\n",
    "    pep_pg_seq=str(OPfasta_pgpsicube_allprotacc[pep_pgkey].seq)\n",
    "    blast_queryfile=f\"{pair[0]}_query.fna\"\n",
    "    several_seq_to_fasta(pep_psdg_seq,blast_queryfile,pair[0])\n",
    "    blast_subjectfile=f\"{pair[1]}_subject.fna\"\n",
    "    several_seq_to_fasta(pep_pg_seq,blast_subjectfile,pair[1])\n",
    "    blast_outfile=f\"{pair[0]}_{pair[1]}_results.xml\"\n",
    "    subprocess.run(f\"blastp -query {blast_queryfile} -subject {blast_subjectfile} -out {blast_outfile} -word_size 4 -outfmt 5\", shell=True)\n",
    "    os.remove(blast_queryfile)\n",
    "    os.remove(blast_subjectfile)\n",
    "    OPpsi_pepseqalignd_ms2p_blast[pair]={}\n",
    "    for record in NCBIXML.parse(open(blast_outfile)): \n",
    "        if record.alignments: \n",
    "            for align in record.alignments: \n",
    "                for hsp in align.hsps:\n",
    "                    OPpsi_pepseqalignd_ms2p_blast[pair][\"match\"]=hsp.match.replace(\" \",\"-\")\n",
    "                    OPpsi_pepseqalignd_ms2p_blast[pair][\"score\"]=hsp.score\n",
    "                    OPpsi_pepseqalignd_ms2p_blast[pair][\"expect\"]=hsp.expect\n",
    "                    OPpsi_pepseqalignd_ms2p_blast[pair][\"gaps\"]=hsp.gaps\n",
    "    os.remove(blast_outfile)"
   ]
  },
  {
   "cell_type": "code",
   "execution_count": null,
   "id": "22da6f55",
   "metadata": {},
   "outputs": [],
   "source": [
    "#with open(f'./OP16psi_pepseqalignd_ms2p_blast.pickle','wb') as handle:\n",
    "    pickle.dump(OPpsi_pepseqalignd_ms2p_blast, handle, protocol=pickle.HIGHEST_PROTOCOL)\n",
    "    handle.close()"
   ]
  },
  {
   "cell_type": "code",
   "execution_count": 477,
   "id": "76721342",
   "metadata": {},
   "outputs": [],
   "source": [
    "#Calculate identity fraction and how many comparisons did not give any aligment\n",
    "nohit=0\n",
    "for key in OPpsi_pepseqalignd_ms2p_blast.keys():\n",
    "    if len(OPpsi_pepseqalignd_ms2p_blast[key])==0:\n",
    "        nohit+=1\n",
    "        OPpsi_pepseqalignd_ms2p_blast[key][\"ident\"]=0#np.nan\n",
    "    else:\n",
    "        seq=OPpsi_pepseqalignd_ms2p_blast[key][\"match\"]\n",
    "        OPpsi_pepseqalignd_ms2p_blast[key][\"ident\"]=len(re.findall('[A-Z]', seq))/len(seq)"
   ]
  },
  {
   "cell_type": "code",
   "execution_count": 478,
   "id": "bcf6e964",
   "metadata": {},
   "outputs": [
    {
     "data": {
      "text/plain": [
       "27"
      ]
     },
     "execution_count": 478,
     "metadata": {},
     "output_type": "execute_result"
    }
   ],
   "source": [
    "nohit #Number of compared protein pairs which did not align with each other (with the given parameters)"
   ]
  },
  {
   "cell_type": "code",
   "execution_count": 479,
   "id": "ae570591",
   "metadata": {},
   "outputs": [],
   "source": [
    "#Select one pseudogenic ORF per transcript with the highest identity fraction \n",
    "OPpsi_pepseqalignd_ms2p_blast_maxident={}\n",
    "for trxpair in PSIfilt95_pairstrx_real:\n",
    "    peppairs_list=[]\n",
    "    for peppairs in ProtAcc_dict_dkey.keys():\n",
    "        if ProtAcc_dict_dkey[peppairs]==trxpair:\n",
    "            peppairs_list.append(peppairs)\n",
    "    ident_list=[]\n",
    "    for peppairs in peppairs_list:\n",
    "        ident_list.append(OPpsi_pepseqalignd_ms2p_blast[peppairs][\"ident\"])\n",
    "    peppairs_maxident=peppairs_list[ident_list.index(np.max(ident_list))]\n",
    "    OPpsi_pepseqalignd_ms2p_blast_maxident[peppairs_maxident]=OPpsi_pepseqalignd_ms2p_blast[peppairs_maxident]"
   ]
  },
  {
   "cell_type": "code",
   "execution_count": 487,
   "id": "f0a3481e",
   "metadata": {},
   "outputs": [],
   "source": [
    "values=[OPpsi_pepseqalignd_ms2p_blast_maxident[key][\"ident\"] for key in OPpsi_pepseqalignd_ms2p_blast_maxident.keys()]"
   ]
  },
  {
   "cell_type": "code",
   "execution_count": 488,
   "id": "de66b5e9",
   "metadata": {},
   "outputs": [
    {
     "data": {
      "text/plain": [
       "0.5433849591266984"
      ]
     },
     "execution_count": 488,
     "metadata": {},
     "output_type": "execute_result"
    }
   ],
   "source": [
    "np.mean(values)"
   ]
  },
  {
   "cell_type": "code",
   "execution_count": 605,
   "id": "22a9009e",
   "metadata": {},
   "outputs": [
    {
     "data": {
      "text/plain": [
       "18"
      ]
     },
     "execution_count": 605,
     "metadata": {},
     "output_type": "execute_result"
    }
   ],
   "source": [
    "values.count(0)"
   ]
  },
  {
   "cell_type": "code",
   "execution_count": 489,
   "id": "f12ca0a1",
   "metadata": {},
   "outputs": [],
   "source": [
    "values2=values.copy() #Remove comparisons with no aligment\n",
    "values2.remove(0)"
   ]
  },
  {
   "cell_type": "code",
   "execution_count": 613,
   "id": "da58ca94",
   "metadata": {},
   "outputs": [
    {
     "data": {
      "text/plain": [
       "33.77386196769457"
      ]
     },
     "execution_count": 613,
     "metadata": {},
     "output_type": "execute_result"
    }
   ],
   "source": [
    "(len([i for i in values2 if i>0.7])/len(values2))*100"
   ]
  },
  {
   "cell_type": "markdown",
   "id": "8f64cac6",
   "metadata": {},
   "source": [
    "(2) calculate **gene** identity percent"
   ]
  },
  {
   "cell_type": "code",
   "execution_count": 501,
   "id": "e1bccc69",
   "metadata": {},
   "outputs": [],
   "source": [
    "#Map gene types to filtered psiCube pairs present in Ensemble 95 and OpenProt\n",
    "PSIfilt95_real_pairpsdggene=[tuple([MART95_acss[pair[0]],pair[1]]) for pair in PSIfilt95_pairstrx_real]\n",
    "PSIfilt95_real_type={pair:key.split(\"|\")[3] for key in MART95fna_orig.keys() for pair in PSIfilt95_real_pairpsdggene if key.split(\"|\")[0]==pair[0]}"
   ]
  },
  {
   "cell_type": "code",
   "execution_count": 606,
   "id": "de5d32e5",
   "metadata": {},
   "outputs": [
    {
     "name": "stdout",
     "output_type": "stream",
     "text": [
      "630 52 682\n"
     ]
    }
   ],
   "source": [
    "#Sort processed and unprocessed parental genes\n",
    "PSIfilt95_real_unproc=[key for key in PSIfilt95_real_type if \"unprocessed\" in PSIfilt95_real_type[key]]\n",
    "PSIfilt95_real_proc=[pair for pair in PSIfilt95_real_type if pair not in PSIfilt95_real_unproc]\n",
    "print(len(PSIfilt95_real_proc),len(PSIfilt95_real_unproc),len(PSIfilt95_real_type))"
   ]
  },
  {
   "cell_type": "code",
   "execution_count": 621,
   "id": "64639341",
   "metadata": {},
   "outputs": [],
   "source": [
    "#Get gene IDs for each member of the pair\n",
    "PSIfilt95_real_unprocgene=[[pair[0],MART95_acss[pair[1]]] for pair in PSIfilt95_real_unproc]\n",
    "unproc_genes=list(chain.from_iterable(PSIfilt95_real_unprocgene))              "
   ]
  },
  {
   "cell_type": "code",
   "execution_count": 620,
   "id": "60704a86",
   "metadata": {},
   "outputs": [],
   "source": [
    "#Run this loop and copy output to Gene ID filter in BioMart (Ensembl version 95), select Exon sequences\n",
    "#for i in unproc_genes:\n",
    "#    print(i)"
   ]
  },
  {
   "cell_type": "code",
   "execution_count": 622,
   "id": "dfdf8675",
   "metadata": {},
   "outputs": [],
   "source": [
    "#Parse MART 95 with genes accessions only from unproc_genes\n",
    "MART95fasta_psims2_unproc_file=\"mart95fasta_psims2_unproc_export.txt\"\n",
    "#Unzip\n",
    "with gzip.open(f\"{MART95fasta_psims2_unproc_file}.gz\", 'rb') as f_in:\n",
    "    with open(MART95fasta_psims2_unproc_file, 'wb') as f_out:\n",
    "        shutil.copyfileobj(f_in, f_out)\n",
    "#Parse to dictionary\n",
    "input_file = open(MART95fasta_psims2_unproc_file)\n",
    "MART95fasta_psims2_unproc_orig = SeqIO.to_dict(SeqIO.parse(input_file, \"fasta\"))"
   ]
  },
  {
   "cell_type": "code",
   "execution_count": 629,
   "id": "cd0be404",
   "metadata": {},
   "outputs": [],
   "source": [
    "#Concatenate the exons of each gene\n",
    "MART95fasta_psims2_unproc_concat={}\n",
    "for gene in unproc_genes:\n",
    "    gene_keys=[ key for key in MART95fasta_psims2_unproc_orig if gene==key.split(\"|\")[0]]\n",
    "    exon_start={int(key.split(\"|\")[-1]):key for key in gene_keys}\n",
    "    exon_order=[key for key,item in exon_start.items()]\n",
    "    exon_order.sort()#\n",
    "    exon_keyorder=[exon_start[key] for key in exon_order]\n",
    "    seq=\"\"\n",
    "    for exonkey in exon_keyorder:\n",
    "        seq=seq+\"\"+str(MART95fasta_psims2_unproc_orig[exonkey].seq)\n",
    "    MART95fasta_psims2_unproc_concat[gene]=seq"
   ]
  },
  {
   "cell_type": "code",
   "execution_count": 632,
   "id": "cc3e973a",
   "metadata": {},
   "outputs": [],
   "source": [
    "PSIms2p_unproc_exon_seq={}\n",
    "for pair in PSIfilt95_real_unprocgene:\n",
    "    psdg_gene=pair[0]\n",
    "    pg_gene=pair[1]\n",
    "    PSIms2p_unproc_exon_seq[tuple(pair)]={}\n",
    "    PSIms2p_unproc_exon_seq[tuple(pair)][\"psdg_seq\"]=MART95fasta_psims2_unproc_concat[psdg_gene]\n",
    "    PSIms2p_unproc_exon_seq[tuple(pair)][\"pg_seq\"]=MART95fasta_psims2_unproc_concat[pg_gene]"
   ]
  },
  {
   "cell_type": "code",
   "execution_count": 633,
   "id": "e21d1550",
   "metadata": {},
   "outputs": [],
   "source": [
    "#with open(f'./PSIms2p_unproc_exon_seq.pickle','wb') as handle:\n",
    "    pickle.dump(PSIms2p_unproc_exon_seq, handle, protocol=pickle.HIGHEST_PROTOCOL)\n",
    "    handle.close()"
   ]
  },
  {
   "cell_type": "code",
   "execution_count": 520,
   "id": "deb50e0a",
   "metadata": {},
   "outputs": [],
   "source": [
    "#get psiCube genes of processed pseudogenes\n",
    "PSIfilt95_real_procgene=[tuple([pair[0],MART95_acss[pair[1]]]) for pair in PSIfilt95_real_proc]\n",
    "#get a flat list of accessions for search in BioMart\n",
    "geneacc=list(chain.from_iterable([[pair[0]]+[pair[1]] for pair in PSIfilt95_real_procgene]))\n",
    "#get psiCube transcripts of processed pseudogenes\n",
    "PSIfilt95_real_proctrx=[pair for pair,key in zip(PSIfilt95_pairstrx_real,PSIfilt95_real_type) if key not in PSIfilt95_real_unproc]\n",
    "trxacc=list(chain.from_iterable([[pair[0]]+[pair[1]] for pair in PSIfilt95_real_proctrx]))"
   ]
  },
  {
   "cell_type": "code",
   "execution_count": 568,
   "id": "e293a2ea",
   "metadata": {},
   "outputs": [],
   "source": [
    "#Run this loop and copy the output to Gene ID filter in BioMart (Ensembl version 95), select gene sequence\n",
    "#for i in set(geneacc):\n",
    "#    print(i)"
   ]
  },
  {
   "cell_type": "code",
   "execution_count": 524,
   "id": "6a9f1961",
   "metadata": {},
   "outputs": [],
   "source": [
    "#Parse MART 95 with genes accsseions only from PSIfilt95_real_procgene\n",
    "MART95fasta_psims2_file=\"mart95fasta_psims2_export.txt\"\n",
    "#Unarchive\n",
    "with gzip.open(f\"{MART95fasta_psims2_file}.gz\", 'rb') as f_in:\n",
    "    with open(MART95fasta_psims2_file, 'wb') as f_out:\n",
    "        shutil.copyfileobj(f_in, f_out)\n",
    "#Parse to dictionary\n",
    "input_file = open(MART95fasta_psims2_file)\n",
    "MART95fasta_psims2_orig = SeqIO.to_dict(SeqIO.parse(input_file, \"fasta\"))"
   ]
  },
  {
   "cell_type": "code",
   "execution_count": 609,
   "id": "6f9623a3",
   "metadata": {},
   "outputs": [],
   "source": [
    "#with open(f'./MART95fasta_psims2_orig.pickle','wb') as handle:\n",
    "    pickle.dump(MART95fasta_psims2_orig, handle, protocol=pickle.HIGHEST_PROTOCOL)\n",
    "    handle.close()"
   ]
  },
  {
   "cell_type": "code",
   "execution_count": 566,
   "id": "1ec8600f",
   "metadata": {},
   "outputs": [
    {
     "data": {
      "text/plain": [
       "(998, 930)"
      ]
     },
     "execution_count": 566,
     "metadata": {},
     "output_type": "execute_result"
    }
   ],
   "source": [
    "len(set(geneacc)),len(set([key.split(\"|\")[0] for key in MART95fasta_psims2_real.keys()])) #for some reason not all genes were taken from BioMart"
   ]
  },
  {
   "cell_type": "code",
   "execution_count": 527,
   "id": "92312326",
   "metadata": {},
   "outputs": [],
   "source": [
    "#Select transcripts from pairs\n",
    "MART95fasta_psims2_real={}\n",
    "for key in MART95fasta_psims2_orig:\n",
    "    if key.split(\"|\")[1] in set(trxacc):\n",
    "        MART95fasta_psims2_real[key]=MART95fasta_psims2_orig[key]"
   ]
  },
  {
   "cell_type": "code",
   "execution_count": 528,
   "id": "c8ae6bbb",
   "metadata": {},
   "outputs": [
    {
     "data": {
      "text/plain": [
       "(972, 4485)"
      ]
     },
     "execution_count": 528,
     "metadata": {},
     "output_type": "execute_result"
    }
   ],
   "source": [
    "len(MART95fasta_psims2_real),len(MART95fasta_psims2_orig)"
   ]
  },
  {
   "cell_type": "code",
   "execution_count": 580,
   "id": "4a21a036",
   "metadata": {},
   "outputs": [],
   "source": [
    "#Save pairs of transcript sequences\n",
    "no=[]\n",
    "PSIms2p_proc_seq={}\n",
    "for pair in PSIfilt95_real_proctrx:\n",
    "    psdg_trx=pair[0]\n",
    "    pg_trx=pair[1]\n",
    "    key_psdg=[key for key in MART95fasta_psims2_real.keys() if key.split(\"|\")[1]==psdg_trx]\n",
    "    key_pg=[key for key in MART95fasta_psims2_real.keys() if key.split(\"|\")[1]==pg_trx]\n",
    "    if len(key_psdg)==0 or len(key_pg)==0: #for genes that were not taken from BioMart\n",
    "        no.append(pair)\n",
    "        next\n",
    "    else:\n",
    "        PSIms2p_proc_seq[pair]={}\n",
    "        PSIms2p_proc_seq[pair][\"psdg_seq\"]=str(MART95fasta_psims2_real[key_psdg[0]].seq)\n",
    "        PSIms2p_proc_seq[pair][\"pg_seq\"]=str(MART95fasta_psims2_real[key_pg[0]].seq)"
   ]
  },
  {
   "cell_type": "code",
   "execution_count": 582,
   "id": "d203a925",
   "metadata": {},
   "outputs": [],
   "source": [
    "#with open(f'./PSIms2p_proc_seq.pickle','wb') as handle:\n",
    "    pickle.dump(PSIms2p_proc_seq, handle, protocol=pickle.HIGHEST_PROTOCOL)\n",
    "    handle.close()"
   ]
  },
  {
   "cell_type": "code",
   "execution_count": null,
   "id": "ed4c4bd3",
   "metadata": {},
   "outputs": [],
   "source": [
    "#Function to perform blastn\n",
    "def blastn_pairs(inputdict):\n",
    "    outputdict=inputdict.copy()\n",
    "    for pair in inputdict.keys():\n",
    "        print(pair,list(inputdict.keys()).index(pair),len(inputdict.keys()))\n",
    "        psdg_seq=inputdict[pair][\"psdg_seq\"]\n",
    "        pg_seq=inputdict[pair][\"pg_seq\"]\n",
    "        blast_queryfile=f\"{pair[0]}_query.fna\"\n",
    "        several_seq_to_fasta(psdg_seq,blast_queryfile,pair[0])\n",
    "        blast_subjectfile=f\"{pair[1]}_subject.fna\"\n",
    "        several_seq_to_fasta(pg_seq,blast_subjectfile,pair[1])\n",
    "        blast_outfile=f\"{pair[0]}_{pair[1]}_results.xml\"\n",
    "        subprocess.run(f\"blastn -query {blast_queryfile} -subject {blast_subjectfile} -out {blast_outfile} -word_size 15 -dust no -outfmt 5\", shell=True)\n",
    "        os.remove(blast_queryfile)\n",
    "        os.remove(blast_subjectfile)\n",
    "        for record in NCBIXML.parse(open(blast_outfile)): \n",
    "            if record.alignments:\n",
    "                for align in record.alignments:\n",
    "                    for hsp in align.hsps:\n",
    "                        outputdict[pair][\"match\"]=hsp.match.replace(\" \",\"-\")\n",
    "                        outputdict[pair][\"score\"]=hsp.score\n",
    "                        outputdict[pair][\"expect\"]=hsp.expect\n",
    "                        outputdict[pair][\"gaps\"]=hsp.gaps\n",
    "        os.remove(blast_outfile)\n",
    "    return outputdict"
   ]
  },
  {
   "cell_type": "code",
   "execution_count": null,
   "id": "67f5a1c2",
   "metadata": {},
   "outputs": [],
   "source": [
    "#Run blastn on processed pseudogene pairs\n",
    "PSIms2p_proc_align=blastn_pairs(PSIms2p_proc_seq)"
   ]
  },
  {
   "cell_type": "code",
   "execution_count": null,
   "id": "194d9667",
   "metadata": {},
   "outputs": [],
   "source": [
    "#with open(f'./PSIms2p_proc_align.pickle','wb') as handle:\n",
    "    pickle.dump(PSIms2p_proc_align, handle, protocol=pickle.HIGHEST_PROTOCOL)\n",
    "    handle.close()"
   ]
  },
  {
   "cell_type": "code",
   "execution_count": null,
   "id": "346accf5",
   "metadata": {},
   "outputs": [],
   "source": [
    "#Run blastn on unprocessed pseudogene pairs\n",
    "PSIms2p_unproc_exon_align=blastn_pairs(PSIms2p_unproc_exon_seq)"
   ]
  },
  {
   "cell_type": "code",
   "execution_count": null,
   "id": "e955e27a",
   "metadata": {},
   "outputs": [],
   "source": [
    "#with open(f'./PSIms2p_unproc_exon_align.pickle','wb') as handle:\n",
    "    pickle.dump(PSIms2p_unproc_exon_align, handle, protocol=pickle.HIGHEST_PROTOCOL)\n",
    "    handle.close()"
   ]
  },
  {
   "cell_type": "code",
   "execution_count": 594,
   "id": "3e6df6ff",
   "metadata": {},
   "outputs": [],
   "source": [
    "#Calculate identity fraction for processed pseudogene pairs\n",
    "noproc=0\n",
    "proc_ident=[]\n",
    "for key in PSIms2p_proc_align:\n",
    "    if \"match\" not in PSIms2p_proc_align[key].keys():\n",
    "        noproc+=1\n",
    "    else:\n",
    "        seq=PSIms2p_proc_align[key][\"match\"]\n",
    "        proc_ident.append((seq.count(\"|\")/len(seq)))\n",
    "        PSIms2p_proc_align[key][\"ident\"]=(seq.count(\"|\")/len(seq))"
   ]
  },
  {
   "cell_type": "code",
   "execution_count": 595,
   "id": "b971daba",
   "metadata": {},
   "outputs": [
    {
     "data": {
      "text/plain": [
       "(570, 15)"
      ]
     },
     "execution_count": 595,
     "metadata": {},
     "output_type": "execute_result"
    }
   ],
   "source": [
    "len(proc_ident),noproc #15 sequences didn't have alignment"
   ]
  },
  {
   "cell_type": "code",
   "execution_count": 636,
   "id": "987e9bc9",
   "metadata": {},
   "outputs": [],
   "source": [
    "#Calculate identity fraction for unprocessed pseudogene pairs\n",
    "nounproc=0\n",
    "unproc_ident=[]\n",
    "for key in PSIms2p_unproc_exon_align:\n",
    "    if \"match\" not in PSIms2p_unproc_exon_align[key].keys():\n",
    "        nounproc+=1\n",
    "    else:\n",
    "        seq=PSIms2p_unproc_exon_align[key][\"match\"]\n",
    "        unproc_ident.append((seq.count(\"|\")/len(seq)))\n",
    "        PSIms2p_unproc_exon_align[key][\"ident\"]=(seq.count(\"|\")/len(seq))"
   ]
  },
  {
   "cell_type": "code",
   "execution_count": 637,
   "id": "2c81ea26",
   "metadata": {},
   "outputs": [
    {
     "data": {
      "text/plain": [
       "(52, 0)"
      ]
     },
     "execution_count": 637,
     "metadata": {},
     "output_type": "execute_result"
    }
   ],
   "source": [
    "len(unproc_ident),nounproc #all sequences had alignment"
   ]
  },
  {
   "cell_type": "code",
   "execution_count": 638,
   "id": "ead12da4",
   "metadata": {},
   "outputs": [
    {
     "data": {
      "text/plain": [
       "91.0378182544097"
      ]
     },
     "execution_count": 638,
     "metadata": {},
     "output_type": "execute_result"
    }
   ],
   "source": [
    "np.mean(proc_ident+unproc_ident)*100 #get combined average identity percent"
   ]
  },
  {
   "cell_type": "code",
   "execution_count": null,
   "id": "45799e88",
   "metadata": {},
   "outputs": [],
   "source": []
  }
 ],
 "metadata": {
  "kernelspec": {
   "display_name": "Python 3 (ipykernel)",
   "language": "python",
   "name": "python3"
  },
  "language_info": {
   "codemirror_mode": {
    "name": "ipython",
    "version": 3
   },
   "file_extension": ".py",
   "mimetype": "text/x-python",
   "name": "python",
   "nbconvert_exporter": "python",
   "pygments_lexer": "ipython3",
   "version": "3.9.12"
  }
 },
 "nbformat": 4,
 "nbformat_minor": 5
}
