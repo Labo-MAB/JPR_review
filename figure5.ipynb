{
 "cells": [
  {
   "cell_type": "code",
   "execution_count": 1,
   "id": "3a09fc18",
   "metadata": {},
   "outputs": [],
   "source": [
    "import zipfile\n",
    "import numpy as np\n",
    "import pandas as pd\n",
    "import gzip\n",
    "import shutil\n",
    "import matplotlib.pyplot as plt\n",
    "from matplotlib.pyplot import figure\n",
    "import matplotlib.colors as colors\n",
    "from scipy.stats import gaussian_kde"
   ]
  },
  {
   "cell_type": "code",
   "execution_count": 2,
   "id": "e399df7c",
   "metadata": {},
   "outputs": [],
   "source": [
    "#Open main objects generated below\n",
    "#OP_df=pd.read_pickle(\"./OP16_df.pkl\")\n",
    "OP_df_refprot_ms0=pd.read_pickle(\"./OP16_df_refprot_ms0.pkl\")\n",
    "OP_df_altprot_ms0=pd.read_pickle(\"./OP16_df_altprot_ms0.pkl\")\n",
    "MART_df=pd.read_pickle(\"./MART95_df.pkl\")\n",
    "MART_df_psdg=pd.read_pickle(\"./MART95_df_psdg.pkl\")\n",
    "OP_df_altprot_ms0_psdg=pd.read_pickle(\"./OP16_df_altprot_ms0_psdg.pkl\")\n",
    "OP_df_refprot_ms0_len300=pd.read_pickle(\"./OP16_df_refprot_ms0_len300.pkl\")\n",
    "OP_df_altprot_ms0_psdg_lngstorf=pd.read_pickle(\"./OP_df_altprot_ms0_psdg_lngstorf\")\n",
    "OP_df_altprot_ms0_psdg_lngstorf_len300=pd.read_pickle(\"./OP_df_altprot_ms0_psdg_lngstorf_len300\")"
   ]
  },
  {
   "cell_type": "markdown",
   "id": "72c182c2",
   "metadata": {},
   "source": [
    " "
   ]
  },
  {
   "cell_type": "code",
   "execution_count": 4,
   "id": "033017e8",
   "metadata": {},
   "outputs": [],
   "source": [
    "#Path to unfiltered OpenProt .tsv file version 1.6\n",
    "#https://archive.openprot.org/p/download\n",
    "OP_file=\"human-openprot-r1_6-refprots+altprots+isoforms-+uniprot2019_03_01.tsv\""
   ]
  },
  {
   "cell_type": "code",
   "execution_count": 3,
   "id": "c7f77dc5",
   "metadata": {},
   "outputs": [],
   "source": [
    "#Unarchive OP_file\n",
    "with zipfile.ZipFile(f'{OP_file}.zip', 'r') as zip_ref:\n",
    "    zip_ref.extractall(\"./\")"
   ]
  },
  {
   "cell_type": "code",
   "execution_count": 8,
   "id": "09803f50",
   "metadata": {},
   "outputs": [
    {
     "name": "stderr",
     "output_type": "stream",
     "text": [
      "C:\\Users\\Lera\\AppData\\Local\\Temp\\ipykernel_6584\\4042716307.py:1: DtypeWarning: Columns (8) have mixed types. Specify dtype option on import or set low_memory=False.\n",
      "  OP_df=pd.read_csv(OP_file,sep=\"\\t\",skiprows=[0])\n"
     ]
    }
   ],
   "source": [
    "#Load OP_file\n",
    "OP_df=pd.read_csv(OP_file,sep=\"\\t\",skiprows=[0])"
   ]
  },
  {
   "cell_type": "code",
   "execution_count": 11,
   "id": "e4f61bef",
   "metadata": {},
   "outputs": [],
   "source": [
    "#Extract only reference (canonical) proteins. _ms0 indicates no filtering on MS score\n",
    "OP_df_refprot_ms0=OP_df.loc[(OP_df[\"protein type\"]==\"RefProt\"),]"
   ]
  },
  {
   "cell_type": "code",
   "execution_count": 12,
   "id": "5ccd3a01",
   "metadata": {},
   "outputs": [],
   "source": [
    "#Extract only alternative proteins\n",
    "OP_df_altprot_ms0=OP_df.loc[(OP_df[\"protein type\"]==\"AltProt\"),] "
   ]
  },
  {
   "cell_type": "code",
   "execution_count": 21,
   "id": "acd9f003",
   "metadata": {},
   "outputs": [],
   "source": [
    "#BioMart query of Ensemble 95 (compatible with Openprot v1.6)\n",
    "#https://jan2019.archive.ensembl.org/biomart/martview/dace2a612a1691831d9f86d3c6c0e59c\n",
    "MART_file=\"./mart95_export.txt\" "
   ]
  },
  {
   "cell_type": "code",
   "execution_count": 22,
   "id": "a64835b7",
   "metadata": {},
   "outputs": [],
   "source": [
    "#Unarchive MART_file\n",
    "with gzip.open(f'{MART_file}.gz', 'rb') as f_in:\n",
    "    with open(MART_file, 'wb') as f_out:\n",
    "        shutil.copyfileobj(f_in, f_out)"
   ]
  },
  {
   "cell_type": "code",
   "execution_count": 23,
   "id": "afa8769f",
   "metadata": {},
   "outputs": [],
   "source": [
    "#Load MART_file\n",
    "MART_df=pd.read_csv(MART_file,sep=\"\\t\")"
   ]
  },
  {
   "cell_type": "code",
   "execution_count": 25,
   "id": "7071e07d",
   "metadata": {},
   "outputs": [],
   "source": [
    "#Extract only pseudogenes\n",
    "psdg_ind_mart=[i for x,i in zip(list(MART_df[\"Gene type\"]),list(MART_df.index)) if \"pseudogene\" in x]\n",
    "MART_df_psdg=MART_df.iloc[psdg_ind_mart,:]"
   ]
  },
  {
   "cell_type": "code",
   "execution_count": 29,
   "id": "8d4060e4",
   "metadata": {},
   "outputs": [],
   "source": [
    "MART_psdg_trxlist=list(MART_df_psdg[\"Transcript stable ID\"])"
   ]
  },
  {
   "cell_type": "code",
   "execution_count": 28,
   "id": "816191b3",
   "metadata": {},
   "outputs": [
    {
     "name": "stderr",
     "output_type": "stream",
     "text": [
      "C:\\Users\\Lera\\AppData\\Local\\Temp\\ipykernel_6584\\1683176474.py:1: SettingWithCopyWarning: \n",
      "A value is trying to be set on a copy of a slice from a DataFrame.\n",
      "Try using .loc[row_indexer,col_indexer] = value instead\n",
      "\n",
      "See the caveats in the documentation: https://pandas.pydata.org/pandas-docs/stable/user_guide/indexing.html#returning-a-view-versus-a-copy\n",
      "  OP_df_altprot_ms0[\"id\"]=pd.DataFrame(OP_df_altprot_ms0['transcript accession'].apply(lambda x: x.split(\".\")[0]))\n"
     ]
    }
   ],
   "source": [
    "#Extract stable transcript id\n",
    "OP_df_altprot_ms0[\"id\"]=pd.DataFrame(OP_df_altprot_ms0['transcript accession'].apply(lambda x: x.split(\".\")[0]))"
   ]
  },
  {
   "cell_type": "code",
   "execution_count": 30,
   "id": "bc2f4804",
   "metadata": {},
   "outputs": [],
   "source": [
    "#Leave only pseudogenic alternative proteins\n",
    "OP_df_altprot_ms0_psdg=OP_df_altprot_ms0[OP_df_altprot_ms0['id'].isin(MART_psdg_trxlist)]"
   ]
  },
  {
   "cell_type": "code",
   "execution_count": 13,
   "id": "7f511b99",
   "metadata": {},
   "outputs": [],
   "source": [
    "#Select pseudogenic proteins with longest ORF by transcript coordinates\n",
    "OP_df_altprot_ms0_psdg_lngstorf=pd.DataFrame(columns=OP_df_altprot_ms0_psdg.columns)\n",
    "for psdg in set(list(OP_df_altprot_ms0_psdg['gene symbol'])):\n",
    "    df=OP_df_altprot_ms0_psdg.loc[OP_df_altprot_ms0_psdg['gene symbol']==psdg,]\n",
    "    orflen=list(df['stop transcript coordinates']-df['start transcript coordinates'])\n",
    "    maxorfidx=orflen.index(np.max(orflen))\n",
    "    df=df.iloc[maxorfidx,:].to_frame().transpose()\n",
    "    OP_df_altprot_ms0_psdg_lngstorf=pd.concat([OP_df_altprot_ms0_psdg_lngstorf,df])"
   ]
  },
  {
   "cell_type": "code",
   "execution_count": 6,
   "id": "c60300f1",
   "metadata": {},
   "outputs": [
    {
     "data": {
      "image/png": "[encoded data removed]",
      "text/plain": [
       "<Figure size 480x560 with 1 Axes>"
      ]
     },
     "metadata": {
      "needs_background": "light"
     },
     "output_type": "display_data"
    }
   ],
   "source": [
    "#Build frequency histogram of protein length\n",
    "figure(figsize=(6, 7), dpi=80)\n",
    "plt.hist(list(OP_df_refprot_ms0['protein length (a.a.)']),bins=1000,color=\"deepskyblue\",weights=np.zeros_like(list(OP_df_refprot_ms0['protein length (a.a.)'])) + 1. / len(list(OP_df_refprot_ms0['protein length (a.a.)'])));\n",
    "plt.hist(list(OP_df_altprot_ms0_psdg_lngstorf['protein length (a.a.)']),bins=1000,color=\"mediumblue\",weights=np.zeros_like(list(OP_df_altprot_ms0_psdg_lngstorf['protein length (a.a.)'])) + 1. / len(list(OP_df_altprot_ms0_psdg_lngstorf['protein length (a.a.)'])));\n",
    "plt.xlim(0,3000);\n",
    "plt.xticks(fontsize=10)\n",
    "plt.yticks(fontsize=10)\n",
    "plt.ylabel(\"frequency\",size=15);\n",
    "plt.xlabel(\"protein length (aa)\",size=15);\n",
    "plt.legend([\"Canonical proteins\",\"Pseudogenic proteins\"],prop={'size': 15});\n",
    "plt.savefig(\"freq_protlen4.png\");"
   ]
  },
  {
   "cell_type": "code",
   "execution_count": 39,
   "id": "f25a5c3c",
   "metadata": {},
   "outputs": [],
   "source": [
    "#Select canonical proteins with protein length < 300 aa\n",
    "OP_df_refprot_ms0_len300=OP_df_refprot_ms0.loc[OP_df_refprot_ms0['protein length (a.a.)']<300,]"
   ]
  },
  {
   "cell_type": "code",
   "execution_count": 7,
   "id": "72d0319c",
   "metadata": {},
   "outputs": [
    {
     "data": {
      "text/plain": [
       "'Percent of canonical proteins with protein length < 300 aa = 42.826223915587%'"
      ]
     },
     "execution_count": 7,
     "metadata": {},
     "output_type": "execute_result"
    }
   ],
   "source": [
    "f\"Percent of canonical proteins with protein length < 300 aa = {(len(OP_df_refprot_ms0_len300)/len(OP_df_refprot_ms0)*100)}%\""
   ]
  },
  {
   "cell_type": "code",
   "execution_count": 43,
   "id": "01982c1d",
   "metadata": {},
   "outputs": [],
   "source": [
    "x=list(OP_df_refprot_ms0_len300['protein length (a.a.)'])\n",
    "y=list(OP_df_refprot_ms0_len300['MS score'])\n",
    "# Calculate the point density, maight take a while\n",
    "xy = np.vstack([x,y])\n",
    "z = gaussian_kde(xy)(xy)"
   ]
  },
  {
   "cell_type": "code",
   "execution_count": 40,
   "id": "2cb95436",
   "metadata": {},
   "outputs": [],
   "source": [
    "#Set cmap\n",
    "def truncate_colormap(cmap, minval=0.0, maxval=1.0, n=100):\n",
    "    new_cmap = colors.LinearSegmentedColormap.from_list(\n",
    "        'trunc({n},{a:.2f},{b:.2f})'.format(n=cmap.name, a=minval, b=maxval),\n",
    "        cmap(np.linspace(minval, maxval, n)))\n",
    "    return new_cmap\n",
    "\n",
    "cmap = plt.get_cmap('jet')\n",
    "new_cmap = truncate_colormap(cmap, 0.32, 0.3)"
   ]
  },
  {
   "cell_type": "code",
   "execution_count": 42,
   "id": "fc6c45de",
   "metadata": {},
   "outputs": [
    {
     "data": {
      "image/png": "[encoded data removed]",
      "text/plain": [
       "<Figure size 480x560 with 1 Axes>"
      ]
     },
     "metadata": {
      "needs_background": "light"
     },
     "output_type": "display_data"
    }
   ],
   "source": [
    "#Density dot plot displays corelation between protein length and MS score (sum of unique peptide per study)\n",
    "figure(figsize=(6, 7), dpi=80)\n",
    "plt.scatter(x, y,c=z,s=2,cmap=new_cmap)\n",
    "zz = np.polyfit(x, y, 1)\n",
    "p = np.poly1d(zz)\n",
    "p1_y=np.min(p(x))\n",
    "p2_y=np.max(p(x))\n",
    "x_values = [0, 300]\n",
    "y_values = [p1_y, p2_y]\n",
    "plt.plot(x_values, y_values, 'r', linestyle=\"-\",linewidth=1);\n",
    "plt.xticks(fontsize=10)\n",
    "plt.yticks(fontsize=10)\n",
    "plt.ylabel(\"MS score\",size=15);\n",
    "plt.xlabel(\"protein length (aa)\",size=15);\n",
    "plt.savefig(\"ms_protlen5.png\");"
   ]
  },
  {
   "cell_type": "code",
   "execution_count": 9,
   "id": "6b043353",
   "metadata": {},
   "outputs": [],
   "source": [
    "#Select pseudogenic proteins with protein length < 300 aa\n",
    "OP_df_altprot_ms0_psdg_lngstorf_len300=OP_df_altprot_ms0_psdg_lngstorf.loc[OP_df_altprot_ms0_psdg_lngstorf['protein length (a.a.)']<300,]"
   ]
  },
  {
   "cell_type": "code",
   "execution_count": 16,
   "id": "5b01579d",
   "metadata": {},
   "outputs": [
    {
     "data": {
      "text/plain": [
       "'Percent of pseudogenic proteins with protein length < 300 aa = 0.9671824519639517%'"
      ]
     },
     "execution_count": 16,
     "metadata": {},
     "output_type": "execute_result"
    }
   ],
   "source": [
    "f\"Percent of pseudogenic proteins with protein length < 300 aa = {len(OP_df_altprot_ms0_psdg_lngstorf_len300)/len(OP_df_altprot_ms0_psdg_lngstorf)}%\""
   ]
  },
  {
   "cell_type": "code",
   "execution_count": 3,
   "id": "87317ec8",
   "metadata": {},
   "outputs": [
    {
     "name": "stderr",
     "output_type": "stream",
     "text": [
      "C:\\Users\\Lera\\AppData\\Local\\Temp\\ipykernel_15516\\3668338568.py:2: RuntimeWarning: divide by zero encountered in log\n",
      "  my_dict3 = {'Canonical proteins': np.log(list(OP_df_refprot_ms0_len300['MS score'])), 'Pseudogenic proteins': list(np.log(list(OP_df_altprot_ms0_psdg_lngstorf_len300['MS score'])))}\n"
     ]
    },
    {
     "data": {
      "image/png": "[encoded data removed]",
      "text/plain": [
       "<Figure size 432x504 with 1 Axes>"
      ]
     },
     "metadata": {
      "needs_background": "light"
     },
     "output_type": "display_data"
    }
   ],
   "source": [
    "#Boxplot shows MS score of canonical and pseudogenic proteins of length <300 aa. Outliers are hidden for canonical proteins\n",
    "my_dict3 = {'Canonical proteins': np.log(list(OP_df_refprot_ms0_len300['MS score'])), 'Pseudogenic proteins': list(np.log(list(OP_df_altprot_ms0_psdg_lngstorf_len300['MS score'])))}\n",
    "my_dict3['Pseudogenic proteins'].sort()\n",
    "my_dict3['Pseudogenic proteins']=my_dict3['Pseudogenic proteins'][8971:] #remove -inf so the data can be ploted\n",
    "fig, ax = plt.subplots()\n",
    "ax.boxplot(my_dict3.values(),labels=my_dict3.keys(),showfliers=False,medianprops = dict(color = \"mediumblue\", linewidth = 1.5)) #outliers hidden\n",
    "plt.ylabel(\"MS score (log)\",size=15);\n",
    "ax.tick_params(axis='x', labelsize=15)\n",
    "fig = plt.gcf()\n",
    "fig.set_size_inches(6, 7)\n",
    "plt.savefig(\"ms_refalt5.png\");"
   ]
  },
  {
   "cell_type": "code",
   "execution_count": 14,
   "id": "f05aea37",
   "metadata": {},
   "outputs": [],
   "source": [
    "#save main objects\n",
    "#OP_df.to_pickle(\"./OP16_df.pkl\")\n",
    "#OP_df_refprot_ms0.to_pickle(\"./OP16_df_refprot_ms0.pkl\")\n",
    "#OP_df_altprot_ms0.to_pickle(\"./OP16_df_altprot_ms0.pkl\")\n",
    "#MART_df.to_pickle(\"./MART95_df.pkl\")\n",
    "#MART_df_psdg.to_pickle(\"./MART95_df_psdg.pkl\")\n",
    "#OP_df_altprot_ms0_psdg.to_pickle(\"./OP16_df_altprot_ms0_psdg.pkl\")\n",
    "#OP_df_refprot_ms0_len300.to_pickle(\"./OP16_df_refprot_ms0_len300.pkl\")\n",
    "#OP_df_altprot_ms0_psdg_lngstorf.to_pickle(\"./OP_df_altprot_ms0_psdg_lngstorf\")\n",
    "#OP_df_altprot_ms0_psdg_lngstorf_len300.to_pickle(\"./OP_df_altprot_ms0_psdg_lngstorf_len300\")"
   ]
  },
  {
   "cell_type": "code",
   "execution_count": null,
   "id": "3b82ad44",
   "metadata": {},
   "outputs": [],
   "source": []
  }
 ],
 "metadata": {
  "kernelspec": {
   "display_name": "Python 3 (ipykernel)",
   "language": "python",
   "name": "python3"
  },
  "language_info": {
   "codemirror_mode": {
    "name": "ipython",
    "version": 3
   },
   "file_extension": ".py",
   "mimetype": "text/x-python",
   "name": "python",
   "nbconvert_exporter": "python",
   "pygments_lexer": "ipython3",
   "version": "3.9.12"
  }
 },
 "nbformat": 4,
 "nbformat_minor": 5
}
