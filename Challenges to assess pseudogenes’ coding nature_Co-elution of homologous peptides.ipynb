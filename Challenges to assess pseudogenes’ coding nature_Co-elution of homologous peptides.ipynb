{
 "cells": [
  {
   "cell_type": "code",
   "execution_count": 4,
   "id": "63f583cc",
   "metadata": {},
   "outputs": [],
   "source": [
    "import zipfile\n",
    "import numpy as np\n",
    "import pandas as pd\n",
    "import gzip\n",
    "import shutil\n",
    "from Bio import SeqIO\n",
    "import matplotlib.pyplot as plt\n",
    "import os\n",
    "from os import listdir\n",
    "from os.path import isfile, join\n",
    "from matplotlib.pyplot import figure\n",
    "import pickle"
   ]
  },
  {
   "cell_type": "code",
   "execution_count": 5,
   "id": "3e88a7a6",
   "metadata": {},
   "outputs": [],
   "source": [
    "#Load all intermidiate pickles (created in other document).\n",
    "#Refer to \"figure5.ipynb\".\n",
    "\n",
    "#Pseudogenic proteins (Alternative Proteins (AltProt)) from Openprot v1.6, not filtered.\n",
    "OP_df_altprot_ms0_psdg=pd.read_pickle(\"./OP16_df_altprot_ms0_psdg.pkl\")\n",
    "#Canonical proteins (Reference Proteins (RefProt)) from Openprot v1.6, not filtered.\n",
    "OP_df_refprot_ms0=pd.read_pickle(\"./OP16_df_refprot_ms0.pkl\")"
   ]
  },
  {
   "cell_type": "code",
   "execution_count": null,
   "id": "13824344",
   "metadata": {},
   "outputs": [],
   "source": [
    "#Load all pickles created downstreem.\n",
    "\n",
    "#psiCube dataset in dictionary, not filtered.\n",
    "with open('PSICUBE_dict.pickle', 'rb') as handle:\n",
    "    PSICUBE_dict = pickle.load(handle)\n",
    "#Openprot pseudogenic proteins filtered by overlap with psiCube (by pseudogene transcript accession) and by  longest transcript (acording to Openprot).\n",
    "#Note, if pseudogene transcript accession was present in Openprot, but coresponding parental gene transcript accession was absent (and visa versa), the pair was not included in .pkl.\n",
    "OP_df_altprot_ms0_psdg_psicube_lngstorf.to_pickle(\"./OP16_df_altprot_ms0_psdg_psicube_lngstorf.pkl\")\n",
    "#Openprot reference proteins filtered by overlap with psiCube (by parental gene transcript accession) and by  longest transcript (acording to Openprot).\n",
    "#Note, if pseudogene transcript accession was present in Openprot, but coresponding parental gene transcript accession was absent (and visa versa), the pair was not included in .pkl.\n",
    "OP_df_refprot_ms0_psicube_lngstorf.to_pickle(\"./OP16_df_refprot_ms0_psicube_lngstorf.pkl\")\n",
    "#Filtered (above) pseudogenic proteins sequence (SeqIO dictionary).\n",
    "with open(f'./OP16fasta_psdgpsicube_lngstorf.pickle','rb') as handle:\n",
    "    OPfasta_psdgpsicube_lngstorf= pickle.load(handle)\n",
    "#Filtered (above) reference proteins sequence (SeqIO dictionary).\n",
    "with open(f'./OP16fasta_refprotpsicube_lngstorf.pickle','rb') as handle:\n",
    "    OPfasta_refprotpsicube_lngstorf= pickle.load(handle)"
   ]
  },
  {
   "cell_type": "markdown",
   "id": "a3e61cc7",
   "metadata": {},
   "source": [
    "Upload psiCube dataset"
   ]
  },
  {
   "cell_type": "code",
   "execution_count": 12,
   "id": "96493a33",
   "metadata": {},
   "outputs": [],
   "source": [
    "#http://www.pseudogene.org/psicube/data/gencode.v10.pgene.parents.txt\n",
    "PSICUBE_orig=pd.read_table(\"./gencode.v10.pgene.parents.txt\")"
   ]
  },
  {
   "cell_type": "code",
   "execution_count": 3,
   "id": "773f2e3b",
   "metadata": {},
   "outputs": [],
   "source": [
    "#Transform psiCube dataset to dictionary.\n",
    "#Keys: PseudogeneTranscriptStableId_ParentalGeneStableId_ParentalGeneTranscriptStableId\n",
    "#Absent transcript accessions mark as NaN.\n",
    "PSICUBE_tmp=PSICUBE_orig.to_dict('index')\n",
    "PSICUBE_dict={}\n",
    "for key in PSICUBE_tmp.keys():\n",
    "    psdg=PSICUBE_tmp[key]['ID'].split('.')[0]\n",
    "    try:\n",
    "        pg=PSICUBE_tmp[key]['Parent gene'].split('.')[0]\n",
    "    except AttributeError:\n",
    "        pg='NaN'\n",
    "    try:\n",
    "        ptrx=PSICUBE_tmp[key]['Parent transcript'].split('.')[0]\n",
    "    except:\n",
    "        ptrx='NaN'\n",
    "    newkey=f'{psdg}_{pg}_{ptrx}'\n",
    "    PSICUBE_dict[newkey]=PSICUBE_tmp[key]"
   ]
  },
  {
   "cell_type": "code",
   "execution_count": 6,
   "id": "71ad6af7",
   "metadata": {},
   "outputs": [],
   "source": [
    "#with open(f'./PSICUBE_dict.pickle','wb') as handle:\n",
    "#            pickle.dump(PSICUBE_dict, handle, protocol=pickle.HIGHEST_PROTOCOL)\n",
    "#            handle.close()"
   ]
  },
  {
   "cell_type": "markdown",
   "id": "406fb442",
   "metadata": {},
   "source": [
    "Upload Openprot data set with pseudogenes and reference proteins. See \"figure5.ipunb\" for how they were created."
   ]
  },
  {
   "cell_type": "code",
   "execution_count": 6,
   "id": "fd223da9",
   "metadata": {},
   "outputs": [],
   "source": [
    "OP_df_altprot_ms0_psdg=pd.read_pickle(\"./OP16_df_altprot_ms0_psdg.pkl\")"
   ]
  },
  {
   "cell_type": "code",
   "execution_count": 7,
   "id": "1808609b",
   "metadata": {},
   "outputs": [],
   "source": [
    "OP_df_refprot_ms0=pd.read_pickle(\"./OP16_df_refprot_ms0.pkl\")"
   ]
  },
  {
   "cell_type": "markdown",
   "id": "89af49a3",
   "metadata": {},
   "source": [
    "Filter Openprot subsets with known psiCube parental gene (refprot) - pseudogene (psdg) pairs"
   ]
  },
  {
   "cell_type": "code",
   "execution_count": 29,
   "id": "c29ec197",
   "metadata": {},
   "outputs": [],
   "source": [
    "#Separate psiCube dictionary keys to only pseudogene IDs, only parental gene IDs and both in tuple.\n",
    "psdg_trx=[k.split(\"_\")[0] for k in PSICUBE_dict.keys()]\n",
    "pg_trx=[k.split(\"_\")[2] for k in PSICUBE_dict.keys()]\n",
    "pairs_trx=[(k.split(\"_\")[0],k.split(\"_\")[2]) for k in PSICUBE_dict.keys()]"
   ]
  },
  {
   "cell_type": "code",
   "execution_count": 14,
   "id": "75cd5660",
   "metadata": {},
   "outputs": [],
   "source": [
    "#Add column to Openprot subsets with stable transcript accessions.\n",
    "OP_df_altprot_ms0_psdg[\"trxstableid\"]=[t.split(\".\")[0] for t in list(OP_df_altprot_ms0_psdg['transcript accession'])]\n",
    "OP_df_refprot_ms0[\"trxstableid\"]=[t.split(\".\")[0] for t in list(OP_df_refprot_ms0['transcript accession'])]"
   ]
  },
  {
   "cell_type": "code",
   "execution_count": 17,
   "id": "9fec9c48",
   "metadata": {},
   "outputs": [],
   "source": [
    "#Filter out prom Openprot subsets transcript accessions absent in psiCube dataset.\n",
    "OP_df_altprot_ms0_psdg_psicube=OP_df_altprot_ms0_psdg[OP_df_altprot_ms0_psdg[\"trxstableid\"].isin(psdg_trx)]\n",
    "OP_df_refprot_ms0_psicube=OP_df_refprot_ms0[OP_df_refprot_ms0[\"trxstableid\"].isin(pg_trx)]"
   ]
  },
  {
   "cell_type": "code",
   "execution_count": 28,
   "id": "92cc222d",
   "metadata": {},
   "outputs": [
    {
     "data": {
      "text/plain": [
       "(8189, 3910)"
      ]
     },
     "execution_count": 28,
     "metadata": {},
     "output_type": "execute_result"
    }
   ],
   "source": [
    "#Different number indicates that there are more pseudogenes than parental genes.\n",
    "len(set(OP_df_altprot_ms0_psdg_psicube[\"trxstableid\"])),len(set(OP_df_refprot_ms0_psicube[\"trxstableid\"])) "
   ]
  },
  {
   "cell_type": "code",
   "execution_count": 34,
   "id": "08d8994f",
   "metadata": {},
   "outputs": [
    {
     "name": "stdout",
     "output_type": "stream",
     "text": [
      "814 1861 2675\n"
     ]
    }
   ],
   "source": [
    "#Check if all selected pseudogenes have parental gene (and visa versa) in coresponding Openprot subsets.\n",
    "nopg_pair=0\n",
    "nopsdg_pair=0\n",
    "incomplete_pairs=[]\n",
    "for pair in pairs_trx:\n",
    "    if pair[0] in set(OP_df_altprot_ms0_psdg_psicube[\"trxstableid\"]):\n",
    "        if pair[0] in set(OP_df_altprot_ms0_psdg_psicube[\"trxstableid\"]) and pair[1] in set(OP_df_refprot_ms0_psicube[\"trxstableid\"]):\n",
    "            next\n",
    "        else:\n",
    "            nopg_pair+=1\n",
    "            incomplete_pairs.append(pair)\n",
    "    if pair[1] in set(OP_df_refprot_ms0_psicube[\"trxstableid\"]):\n",
    "        if pair[0] in set(OP_df_altprot_ms0_psdg_psicube[\"trxstableid\"]) and pair[1] in set(OP_df_refprot_ms0_psicube[\"trxstableid\"]):\n",
    "            next\n",
    "        else:\n",
    "            nopsdg_pair+=1\n",
    "            incomplete_pairs.append(pair)\n",
    "        \n",
    "print(nopg_pair,nopsdg_pair,len(incomplete_pairs))"
   ]
  },
  {
   "cell_type": "code",
   "execution_count": 37,
   "id": "a921dd67",
   "metadata": {},
   "outputs": [],
   "source": [
    "#Delet this pairs from Openprot subsets.\n",
    "for pair in incomplete_pairs:\n",
    "    if pair[0] in set(OP_df_altprot_ms0_psdg_psicube[\"trxstableid\"]):\n",
    "        indxdel=OP_df_altprot_ms0_psdg_psicube.loc[OP_df_altprot_ms0_psdg_psicube[\"trxstableid\"]==pair[0],].index\n",
    "        OP_df_altprot_ms0_psdg_psicube=OP_df_altprot_ms0_psdg_psicube.drop(indxdel,axis='index')\n",
    "    if pair[1] in set(OP_df_refprot_ms0_psicube[\"trxstableid\"]):\n",
    "        indxdel=OP_df_refprot_ms0_psicube.loc[OP_df_refprot_ms0_psicube[\"trxstableid\"]==pair[1],].index\n",
    "        OP_df_refprot_ms0_psicube=OP_df_refprot_ms0_psicube.drop(indxdel,axis='index')"
   ]
  },
  {
   "cell_type": "code",
   "execution_count": 40,
   "id": "a3642d96",
   "metadata": {},
   "outputs": [
    {
     "data": {
      "text/plain": [
       "(7375, 2802)"
      ]
     },
     "execution_count": 40,
     "metadata": {},
     "output_type": "execute_result"
    }
   ],
   "source": [
    "len(set(OP_df_altprot_ms0_psdg_psicube[\"trxstableid\"])),len(set(OP_df_refprot_ms0_psicube[\"trxstableid\"]))"
   ]
  },
  {
   "cell_type": "markdown",
   "id": "a1a091fe",
   "metadata": {},
   "source": [
    "Select longest transcripts for Openprot subsets"
   ]
  },
  {
   "cell_type": "code",
   "execution_count": 41,
   "id": "a1cc86e4",
   "metadata": {},
   "outputs": [],
   "source": [
    "#For pseudogenic proteins.\n",
    "OP_df_altprot_ms0_psdg_psicube_lngstorf=pd.DataFrame(columns=OP_df_altprot_ms0_psdg_psicube.columns)\n",
    "for psdg in set(list(OP_df_altprot_ms0_psdg_psicube['gene symbol'])):\n",
    "    df=OP_df_altprot_ms0_psdg_psicube.loc[OP_df_altprot_ms0_psdg_psicube['gene symbol']==psdg,]\n",
    "    orflen=list(df['stop transcript coordinates']-df['start transcript coordinates'])\n",
    "    maxorfidx=orflen.index(np.max(orflen))\n",
    "    df=df.iloc[maxorfidx,:].to_frame().transpose()\n",
    "    OP_df_altprot_ms0_psdg_psicube_lngstorf=pd.concat([OP_df_altprot_ms0_psdg_psicube_lngstorf,df])"
   ]
  },
  {
   "cell_type": "code",
   "execution_count": 42,
   "id": "6367d141",
   "metadata": {},
   "outputs": [
    {
     "data": {
      "text/plain": [
       "7375"
      ]
     },
     "execution_count": 42,
     "metadata": {},
     "output_type": "execute_result"
    }
   ],
   "source": [
    "len(set(OP_df_altprot_ms0_psdg_psicube[\"trxstableid\"]))"
   ]
  },
  {
   "cell_type": "code",
   "execution_count": 43,
   "id": "d19d861e",
   "metadata": {},
   "outputs": [],
   "source": [
    "OP_df_altprot_ms0_psdg_psicube_lngstorf.to_pickle(\"./OP16_df_altprot_ms0_psdg_psicube_lngstorf.pkl\")"
   ]
  },
  {
   "cell_type": "code",
   "execution_count": 44,
   "id": "167c133e",
   "metadata": {},
   "outputs": [],
   "source": [
    "#For reference proteins (transcribed from parental genes).\n",
    "OP_df_refprot_ms0_psicube_lngstorf=pd.DataFrame(columns=OP_df_refprot_ms0_psicube.columns)\n",
    "for psdg in set(list(OP_df_refprot_ms0_psicube['gene symbol'])):\n",
    "    df=OP_df_refprot_ms0_psicube.loc[OP_df_refprot_ms0_psicube['gene symbol']==psdg,]\n",
    "    orflen=list(df['stop transcript coordinates']-df['start transcript coordinates'])\n",
    "    maxorfidx=orflen.index(np.max(orflen))\n",
    "    df=df.iloc[maxorfidx,:].to_frame().transpose()\n",
    "    OP_df_refprot_ms0_psicube_lngstorf=pd.concat([OP_df_refprot_ms0_psicube_lngstorf,df])"
   ]
  },
  {
   "cell_type": "code",
   "execution_count": 46,
   "id": "27ed8c6e",
   "metadata": {},
   "outputs": [],
   "source": [
    "OP_df_refprot_ms0_psicube_lngstorf.to_pickle(\"./OP16_df_refprot_ms0_psicube_lngstorf.pkl\")"
   ]
  },
  {
   "cell_type": "markdown",
   "id": "55dc7726",
   "metadata": {},
   "source": [
    "Upload Openprot fasta file and select protein accession numbers based on filtered Openprot subsets."
   ]
  },
  {
   "cell_type": "code",
   "execution_count": 76,
   "id": "7422bbf3",
   "metadata": {},
   "outputs": [],
   "source": [
    "OPfasta_file=\"human-openprot-r1_6-refprots+altprots+isoforms-+uniprot2019_03_01.fasta\""
   ]
  },
  {
   "cell_type": "code",
   "execution_count": null,
   "id": "212ee28d",
   "metadata": {},
   "outputs": [],
   "source": [
    "#Unarchive OP_file\n",
    "#with zipfile.ZipFile(f'{OPfasta_file}.zip', 'r') as zip_ref:\n",
    "#    zip_ref.extractall(\"./\")"
   ]
  },
  {
   "cell_type": "code",
   "execution_count": 77,
   "id": "8eb54a88",
   "metadata": {},
   "outputs": [],
   "source": [
    "#Parce fasta to dictionary.\n",
    "input_file = open(OPfasta_file)\n",
    "OPfasta_orig = SeqIO.to_dict(SeqIO.parse(input_file, \"fasta\"))"
   ]
  },
  {
   "cell_type": "code",
   "execution_count": 78,
   "id": "6a03b979",
   "metadata": {},
   "outputs": [
    {
     "name": "stdout",
     "output_type": "stream",
     "text": [
      "4 7324\n"
     ]
    }
   ],
   "source": [
    "#Select only keys with pseudogenic proteins.\n",
    "OP_psdgpsicube_lngstorf_protacc=list(set(list(OP_df_altprot_ms0_psdg_psicube_lngstorf['protein accession numbers'])))\n",
    "OPfasta_psdgpsicube_lngstorf={}\n",
    "nokey=0\n",
    "nokeylist=[]\n",
    "for ip in OP_psdgpsicube_lngstorf_protacc:\n",
    "    key=f\"{ip}|TX=9606\"\n",
    "    if key in OPfasta_orig.keys():\n",
    "        OPfasta_psdgpsicube_lngstorf[key]=OPfasta_orig[key]\n",
    "    else:\n",
    "        nokey+=1\n",
    "        nokeylist.append(ip)\n",
    "print(nokey,len(OPfasta_psdgpsicube_lngstorf.keys()))"
   ]
  },
  {
   "cell_type": "code",
   "execution_count": 79,
   "id": "c03447ce",
   "metadata": {},
   "outputs": [
    {
     "name": "stdout",
     "output_type": "stream",
     "text": [
      "0 7328\n"
     ]
    }
   ],
   "source": [
    "#Some keys are absent because proteins have several protein accessions. \n",
    "#Other protein accessions are writen in \"protein accession (others)\" column. \n",
    "#Find the right accession and add it to dictionary.\n",
    "stillnokey=0\n",
    "for ip in nokeylist:\n",
    "    otherips=list(OP_df_altprot_ms0_psdg_psicube_lngstorf.loc[OP_df_altprot_ms0_psdg_psicube_lngstorf[\"protein accession numbers\"]==ip,\"protein accession (others)\"])[0].split(\";\")\n",
    "    stillnokey+=1\n",
    "    for ip2 in otherips:\n",
    "        key=f\"{ip2}|TX=9606\"\n",
    "        if key in OPfasta_orig.keys():\n",
    "            OPfasta_psdgpsicube_lngstorf[key]=OPfasta_orig[key]\n",
    "            stillnokey-=1\n",
    "print(stillnokey,len(OPfasta_psdgpsicube_lngstorf.keys()))"
   ]
  },
  {
   "cell_type": "code",
   "execution_count": 80,
   "id": "d0b5fa64",
   "metadata": {},
   "outputs": [],
   "source": [
    "with open(f'./OP16fasta_psdgpsicube_lngstorf.pickle','wb') as handle:\n",
    "    pickle.dump(OPfasta_psdgpsicube_lngstorf, handle, protocol=pickle.HIGHEST_PROTOCOL)\n",
    "    handle.close()"
   ]
  },
  {
   "cell_type": "code",
   "execution_count": 81,
   "id": "696c217c",
   "metadata": {},
   "outputs": [
    {
     "name": "stdout",
     "output_type": "stream",
     "text": [
      "2419 43\n"
     ]
    }
   ],
   "source": [
    "#Select only keys with reference proteins.\n",
    "OP_refprotpsicube_lngstorf_protacc=list(set(list(OP_df_refprot_ms0_psicube_lngstorf['protein accession numbers'])))\n",
    "OPfasta_refprotpsicube_lngstorf={}\n",
    "nokey=0\n",
    "nokeylist=[]\n",
    "for ip in OP_refprotpsicube_lngstorf_protacc:\n",
    "    key=f\"{ip}|TX=9606\"\n",
    "    if key in OPfasta_orig.keys():\n",
    "        OPfasta_refprotpsicube_lngstorf[key]=OPfasta_orig[key]\n",
    "    else:\n",
    "        nokey+=1\n",
    "        nokeylist.append(ip)\n",
    "print(nokey,len(OPfasta_refprotpsicube_lngstorf.keys()))"
   ]
  },
  {
   "cell_type": "code",
   "execution_count": 82,
   "id": "8af9f711",
   "metadata": {},
   "outputs": [
    {
     "name": "stdout",
     "output_type": "stream",
     "text": [
      "0 2461\n"
     ]
    }
   ],
   "source": [
    "stillnokey=0\n",
    "for ip in nokeylist:\n",
    "    otherips=list(OP_df_refprot_ms0_psicube_lngstorf.loc[OP_df_refprot_ms0_psicube_lngstorf[\"protein accession numbers\"]==ip,\"protein accession (others)\"])[0].split(\";\")\n",
    "    stillnokey+=1\n",
    "    for ip2 in otherips:\n",
    "        key=f\"{ip2}|TX=9606\"\n",
    "        if key in OPfasta_orig.keys():\n",
    "            OPfasta_refprotpsicube_lngstorf[key]=OPfasta_orig[key]\n",
    "            stillnokey-=1\n",
    "print(stillnokey,len(OPfasta_refprotpsicube_lngstorf.keys()))"
   ]
  },
  {
   "cell_type": "code",
   "execution_count": 83,
   "id": "3cbf356d",
   "metadata": {},
   "outputs": [],
   "source": [
    "with open(f'./OP16fasta_refprotpsicube_lngstorf.pickle','wb') as handle:\n",
    "    pickle.dump(OPfasta_refprotpsicube_lngstorf, handle, protocol=pickle.HIGHEST_PROTOCOL)\n",
    "    handle.close()"
   ]
  },
  {
   "cell_type": "markdown",
   "id": "9fa81b40",
   "metadata": {},
   "source": [
    "Digest peptides"
   ]
  },
  {
   "cell_type": "code",
   "execution_count": null,
   "id": "dc538284",
   "metadata": {},
   "outputs": [],
   "source": []
  },
  {
   "cell_type": "markdown",
   "id": "64e79879",
   "metadata": {},
   "source": [
    "Calculate % of pseudogenic peptides with 1 or 2 amino acid differences from parental coresponding peptides (exclude non unique peptides)"
   ]
  },
  {
   "cell_type": "code",
   "execution_count": null,
   "id": "6ddb9821",
   "metadata": {},
   "outputs": [],
   "source": []
  }
 ],
 "metadata": {
  "kernelspec": {
   "display_name": "Python 3 (ipykernel)",
   "language": "python",
   "name": "python3"
  },
  "language_info": {
   "codemirror_mode": {
    "name": "ipython",
    "version": 3
   },
   "file_extension": ".py",
   "mimetype": "text/x-python",
   "name": "python",
   "nbconvert_exporter": "python",
   "pygments_lexer": "ipython3",
   "version": "3.9.12"
  }
 },
 "nbformat": 4,
 "nbformat_minor": 5
}
