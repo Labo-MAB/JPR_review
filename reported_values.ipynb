{
 "cells": [
  {
   "cell_type": "code",
   "execution_count": 1,
   "id": "85fbc852",
   "metadata": {},
   "outputs": [],
   "source": [
    "import zipfile\n",
    "import numpy as np\n",
    "import pandas as pd\n",
    "import gzip\n",
    "import shutil\n",
    "from Bio import SeqIO\n",
    "import matplotlib.pyplot as plt\n",
    "import os\n",
    "from os import listdir\n",
    "from os.path import isfile, join\n",
    "from matplotlib.pyplot import figure\n",
    "import pickle"
   ]
  },
  {
   "cell_type": "code",
   "execution_count": 2,
   "id": "c2d0cc76",
   "metadata": {},
   "outputs": [],
   "source": [
    "#Load all the generated pickles, as their order of creation does not match flow of code below or they were generated in other files\n",
    "MART95_df_psdg=pd.read_pickle(\"./MART95_df_psdg.pkl\")\n",
    "with open('./MS3up1_psdgU.pkl', 'rb') as handle:\n",
    "    MS3up1_psdgU=pickle.load(handle)\n",
    "with open('./MS2p_psdgU.pkl', 'rb') as handle:\n",
    "    MS2p_psdgU=pickle.load(handle)\n",
    "MART110_df=pd.read_pickle(\"./MART_df.pkl\")\n",
    "MART110_df_psdg=pd.read_pickle(\"./MART_df_psdg.pkl\")\n",
    "OP_df_altprot_ms0_psdg=pd.read_pickle(\"./OP16_df_altprot_ms0_psdg.pkl\")"
   ]
  },
  {
   "cell_type": "markdown",
   "id": "8ee1b28b",
   "metadata": {},
   "source": [
    "## Introduction"
   ]
  },
  {
   "cell_type": "markdown",
   "id": "f85f72b5",
   "metadata": {},
   "source": [
    "Number of different types of pseudogenes, Figure 1"
   ]
  },
  {
   "cell_type": "code",
   "execution_count": 3,
   "id": "a89fbb30",
   "metadata": {},
   "outputs": [],
   "source": [
    "MART110_df=pd.read_pickle(\"./MART_df.pkl\") #Ensemble 110"
   ]
  },
  {
   "cell_type": "code",
   "execution_count": 4,
   "id": "0a6e4a48",
   "metadata": {},
   "outputs": [],
   "source": [
    "MART110_df_psdg=pd.read_pickle(\"./MART_df_psdg.pkl\") #Ensemble 110"
   ]
  },
  {
   "cell_type": "code",
   "execution_count": 5,
   "id": "498d2559",
   "metadata": {},
   "outputs": [],
   "source": [
    "#Count types of pseudogenes per gene\n",
    "psdg_counts=MART110_df_psdg.drop_duplicates([\"Gene stable ID\"])[\"Gene type\"].value_counts()"
   ]
  },
  {
   "cell_type": "code",
   "execution_count": 6,
   "id": "73eeb921",
   "metadata": {},
   "outputs": [],
   "source": [
    "protcod_count=MART110_df.drop_duplicates([\"Gene stable ID\"])[\"Gene type\"].value_counts().loc[\"protein_coding\"]\n",
    "unproc_count=psdg_counts.loc[[\"unprocessed_pseudogene\",\"transcribed_unprocessed_pseudogene\"]].values.sum()\n",
    "proc_count=psdg_counts.loc[[\"processed_pseudogene\",\"transcribed_processed_pseudogene\",\"translated_processed_pseudogene\"]].values.sum()\n",
    "unitar_count=psdg_counts.loc[[\"unitary_pseudogene\",\"transcribed_unitary_pseudogene\"]].values.sum()"
   ]
  },
  {
   "cell_type": "code",
   "execution_count": 7,
   "id": "cb752c65",
   "metadata": {},
   "outputs": [],
   "source": [
    "#Count types of pseudogenes per transcripts\n",
    "psdgtrx_counts=MART110_df_psdg.drop_duplicates([\"Transcript stable ID\"])[\"Gene type\"].value_counts()"
   ]
  },
  {
   "cell_type": "code",
   "execution_count": 8,
   "id": "1b1e762a",
   "metadata": {},
   "outputs": [
    {
     "name": "stdout",
     "output_type": "stream",
     "text": [
      "Numbers of protein-coding genes = 23217\n",
      "Number of unprocessed pseudogenes = 4604\n",
      "Number of processed pseudogenes = 11470\n",
      "Number of unitary pseudogenes = 267\n",
      "Number of Other pseudogenes = 920\n",
      "Persent of unprocessed and processed pseudogenes (including others) = 93.12322576907479\n",
      "Number of pseudogenes transcripts 18852\n"
     ]
    }
   ],
   "source": [
    "print(f'Numbers of protein-coding genes = {protcod_count}')\n",
    "print(f'Number of unprocessed pseudogenes = {unproc_count}')\n",
    "print(f'Number of processed pseudogenes = {proc_count}')\n",
    "print(f'Number of unitary pseudogenes = {unitar_count}')\n",
    "print(f'Number of Other pseudogenes = {(np.sum(psdg_counts)-(unproc_count+proc_count+unitar_count))}')\n",
    "print(f'Persent of unprocessed and processed pseudogenes (including others) = {((unproc_count+proc_count)/np.sum(psdg_counts))*100}')\n",
    "print(f\"Number of pseudogenes transcripts {np.sum(list(psdgtrx_counts))}\")"
   ]
  },
  {
   "cell_type": "code",
   "execution_count": 30,
   "id": "77fbf1c2",
   "metadata": {},
   "outputs": [
    {
     "data": {
      "text/plain": [
       "'Number of polimorphic pseudogenes 85'"
      ]
     },
     "execution_count": 30,
     "metadata": {},
     "output_type": "execute_result"
    }
   ],
   "source": [
    "f'Number of polimorphic pseudogenes {len(set(list(MART110_df.loc[MART110_df[\"Transcript type\"]==\"protein_coding_LoF\",\"Gene stable ID\"])))}'"
   ]
  },
  {
   "cell_type": "code",
   "execution_count": 34,
   "id": "ab0ef33b",
   "metadata": {},
   "outputs": [
    {
     "data": {
      "text/plain": [
       "'Number of protein coding transcripts = 99312'"
      ]
     },
     "execution_count": 34,
     "metadata": {},
     "output_type": "execute_result"
    }
   ],
   "source": [
    "f'Number of protein coding transcripts = {len(set(list(MART110_df.loc[MART110_df[\"Transcript type\"]==\"protein_coding\",\"Transcript stable ID\"])))}'"
   ]
  },
  {
   "cell_type": "code",
   "execution_count": 164,
   "id": "19861726",
   "metadata": {},
   "outputs": [
    {
     "data": {
      "text/plain": [
       "'Protein-coding genes: Fold change of sequence diversity = 4.277555239695051'"
      ]
     },
     "execution_count": 164,
     "metadata": {},
     "output_type": "execute_result"
    }
   ],
   "source": [
    "f\"Protein-coding genes: Fold change of sequence diversity = {99312/23217}\""
   ]
  },
  {
   "cell_type": "code",
   "execution_count": 132,
   "id": "c61d1b7f",
   "metadata": {},
   "outputs": [
    {
     "data": {
      "text/plain": [
       "'Number of UniProt entries = 82,485'"
      ]
     },
     "execution_count": 132,
     "metadata": {},
     "output_type": "execute_result"
    }
   ],
   "source": [
    "#https://www.uniprot.org/proteomes/UP000005640 release 2024_01\n",
    "f\"Number of UniProt entries = 82,485\""
   ]
  },
  {
   "cell_type": "code",
   "execution_count": 166,
   "id": "78399a5c",
   "metadata": {},
   "outputs": [
    {
     "data": {
      "text/plain": [
       "'Proteins: Fold change of sequence diversity = 1.2040007274049827'"
      ]
     },
     "execution_count": 166,
     "metadata": {},
     "output_type": "execute_result"
    }
   ],
   "source": [
    "f\"Proteins: Fold change of sequence diversity = {99312/82485}\""
   ]
  },
  {
   "cell_type": "markdown",
   "id": "db4fe8c4",
   "metadata": {},
   "source": [
    "##  Evidence of the coding nature of some pseudogenes "
   ]
  },
  {
   "cell_type": "markdown",
   "id": "75adb834",
   "metadata": {},
   "source": [
    "Expression of POU5F1 and NANOG pseudogenes, Figure 3"
   ]
  },
  {
   "cell_type": "code",
   "execution_count": null,
   "id": "658e5146",
   "metadata": {},
   "outputs": [],
   "source": [
    "#See file \"gtex_analysis.R\""
   ]
  },
  {
   "cell_type": "markdown",
   "id": "fe779a4e",
   "metadata": {},
   "source": [
    "## Challenges to assess pseudogenes’ coding nature "
   ]
  },
  {
   "cell_type": "markdown",
   "id": "9bc427e0",
   "metadata": {},
   "source": [
    "### The burden of an inept definition for a doppelganger"
   ]
  },
  {
   "cell_type": "markdown",
   "id": "61ac2f6e",
   "metadata": {},
   "source": [
    "Pseudogene identity with parental gene and protein"
   ]
  },
  {
   "cell_type": "code",
   "execution_count": null,
   "id": "5ff3169d",
   "metadata": {},
   "outputs": [],
   "source": [
    "#See file \"psdg_pg_ident.ipynb\""
   ]
  },
  {
   "cell_type": "markdown",
   "id": "fdc3957d",
   "metadata": {},
   "source": [
    "Number of loci impossible to detect unambiguously by RNA-seq, multi-maping reads and regions of pseudogenes"
   ]
  },
  {
   "cell_type": "code",
   "execution_count": null,
   "id": "7a579829",
   "metadata": {},
   "outputs": [],
   "source": [
    "#See folder \"find_multimap_sites\""
   ]
  },
  {
   "cell_type": "markdown",
   "id": "53ec7f68",
   "metadata": {},
   "source": [
    "### Co-elution of homologous peptides"
   ]
  },
  {
   "cell_type": "markdown",
   "id": "b3f12398",
   "metadata": {},
   "source": [
    "Number of pseudogenic peptides that are likely to co-elute"
   ]
  },
  {
   "cell_type": "code",
   "execution_count": null,
   "id": "7601f999",
   "metadata": {
    "collapsed": true
   },
   "outputs": [],
   "source": [
    "#See file \"co_elution.ipynb\""
   ]
  },
  {
   "cell_type": "markdown",
   "id": "37a7c19c",
   "metadata": {},
   "source": [
    "### Short sequences"
   ]
  },
  {
   "cell_type": "markdown",
   "id": "05b89d93",
   "metadata": {},
   "source": [
    "Figure 5"
   ]
  },
  {
   "cell_type": "code",
   "execution_count": null,
   "id": "71fc85d2",
   "metadata": {},
   "outputs": [],
   "source": [
    "#See file \"figure5.ipynb\""
   ]
  },
  {
   "cell_type": "markdown",
   "id": "b07f88b4",
   "metadata": {},
   "source": [
    "## Proteomics offer an unmatched solution to solve the pseudogene conundrum "
   ]
  },
  {
   "cell_type": "markdown",
   "id": "06bc7033",
   "metadata": {},
   "source": [
    "### Large-scale repositories reanalysis"
   ]
  },
  {
   "cell_type": "markdown",
   "id": "98700674",
   "metadata": {},
   "source": [
    "Evidence of translated pseudogenes in OpenProt"
   ]
  },
  {
   "cell_type": "code",
   "execution_count": 4,
   "id": "af552d80",
   "metadata": {},
   "outputs": [],
   "source": [
    "#These files were generated through SQL request to OpenProt\n",
    "MS3up1_df=pd.read_excel(\"OP_alt_MS3_Upep1_r79.xlsx\",sheet_name=0)\n",
    "MS2p_df=pd.read_excel(\"OP_alt_MS2pep_r79.xlsx\",sheet_name=0)"
   ]
  },
  {
   "cell_type": "code",
   "execution_count": 5,
   "id": "87a3f157",
   "metadata": {},
   "outputs": [],
   "source": [
    "MART95_df_psdg=pd.read_pickle(\"./MART95_df_psdg.pkl\")"
   ]
  },
  {
   "cell_type": "code",
   "execution_count": 6,
   "id": "beb42949",
   "metadata": {},
   "outputs": [],
   "source": [
    "#Select pseudogene transcripts\n",
    "MS3up1_psdgtrx=MS3up1_df.loc[MS3up1_df[\"Transcript_id\"].isin(list(MART95_df_psdg['Transcript stable ID'])),]\n",
    "MS2p_psdgtrx=MS2p_df.loc[MS2p_df[\"Transcript_id\"].isin(list(MART95_df_psdg['Transcript stable ID'])),]"
   ]
  },
  {
   "cell_type": "code",
   "execution_count": 7,
   "id": "cf735b64",
   "metadata": {},
   "outputs": [],
   "source": [
    "MS3up1_psdgUtrx=set(list(MS3up1_psdgtrx[\"Transcript_id\"]))\n",
    "MS2p_psdgUtrx=set(list(MS2p_psdgtrx[\"Transcript_id\"]))"
   ]
  },
  {
   "cell_type": "code",
   "execution_count": 8,
   "id": "3531ba54",
   "metadata": {},
   "outputs": [],
   "source": [
    "#Extract them as genes\n",
    "MS3up1_psdgU=[MART95_df_psdg.loc[MART95_df_psdg['Transcript stable ID']==psdgUtrx,'Gene stable ID'].values[0] for psdgUtrx in MS3up1_psdgUtrx]\n",
    "MS2p_psdgU=[MART95_df_psdg.loc[MART95_df_psdg['Transcript stable ID']==psdgUtrx,'Gene stable ID'].values[0] for psdgUtrx in MS2p_psdgUtrx]\n",
    "#Calculate number of each\n",
    "MS3up1_psdgUcount=len(set(MS3up1_psdgU))\n",
    "MS2p_psdgUcount=len(set(MS2p_psdgU))"
   ]
  },
  {
   "cell_type": "code",
   "execution_count": 9,
   "id": "69ee70f6",
   "metadata": {},
   "outputs": [],
   "source": [
    "with open('./MS3up1_psdgU.pkl', 'wb') as handle:\n",
    "    pickle.dump(MS3up1_psdgU, handle)\n",
    "with open('./MS2p_psdgU.pkl', 'wb') as handle:\n",
    "    pickle.dump(MS2p_psdgU, handle)"
   ]
  },
  {
   "cell_type": "code",
   "execution_count": 217,
   "id": "9eccbf45",
   "metadata": {},
   "outputs": [
    {
     "data": {
      "text/plain": [
       "'OpenProt reports hundreds (1546) of pseudogenes as translated. It reports 1356 pseudogenes detected with at least 2 unique peptides, and 190 pseudogenes detected with a single unique peptide in at least 3 independent datasets, after the reanalysis of 102 mass spectrometry datasets in humans. '"
      ]
     },
     "execution_count": 217,
     "metadata": {},
     "output_type": "execute_result"
    }
   ],
   "source": [
    "f\"OpenProt reports hundreds ({(MS3up1_psdgUcount+MS2p_psdgUcount)}) of pseudogenes as translated. It reports {MS2p_psdgUcount} pseudogenes detected with at least 2 unique peptides, and {MS3up1_psdgUcount} pseudogenes detected with a single unique peptide in at least 3 independent datasets, after the reanalysis of 102 mass spectrometry datasets in humans. \""
   ]
  },
  {
   "cell_type": "markdown",
   "id": "2fd0e0fb",
   "metadata": {},
   "source": [
    "### Proteogenomics approaches"
   ]
  },
  {
   "cell_type": "markdown",
   "id": "8cb158a5",
   "metadata": {},
   "source": [
    "OpenCustomDB identification of pseudogenes"
   ]
  },
  {
   "cell_type": "code",
   "execution_count": 47,
   "id": "26a0c9da",
   "metadata": {},
   "outputs": [],
   "source": [
    "#Supplementary Data 1 from https://doi.org/10.1021/acs.jproteome.3c00054\n",
    "OpenCustomDB_Suppl1=\"pr3c00054_si_002.xlsx\""
   ]
  },
  {
   "cell_type": "code",
   "execution_count": 48,
   "id": "e3fe1b92",
   "metadata": {},
   "outputs": [],
   "source": [
    "OS1_df=pd.read_excel(OpenCustomDB_Suppl1,sheet_name=2)"
   ]
  },
  {
   "cell_type": "code",
   "execution_count": 49,
   "id": "10c0ce6d",
   "metadata": {},
   "outputs": [],
   "source": [
    "OS1_genes=list(OS1_df[\"Gene\"])"
   ]
  },
  {
   "cell_type": "code",
   "execution_count": 50,
   "id": "7019e389",
   "metadata": {},
   "outputs": [],
   "source": [
    "MART110_df=pd.read_pickle(\"./MART_df.pkl\") #Ensemble 110"
   ]
  },
  {
   "cell_type": "code",
   "execution_count": 51,
   "id": "fa0f7ae1",
   "metadata": {},
   "outputs": [],
   "source": [
    "OS1_genetype=MART110_df.loc[MART110_df[\"Gene name\"].isin(OS1_genes)].drop_duplicates([\"Gene name\"])[\"Gene type\"]"
   ]
  },
  {
   "cell_type": "code",
   "execution_count": 52,
   "id": "71a9deda",
   "metadata": {},
   "outputs": [
    {
     "data": {
      "text/plain": [
       "Gene type                         \n",
       "protein_coding                        24\n",
       "processed_pseudogene                   1\n",
       "transcribed_unprocessed_pseudogene     1\n",
       "unprocessed_pseudogene                 1\n",
       "dtype: int64"
      ]
     },
     "execution_count": 52,
     "metadata": {},
     "output_type": "execute_result"
    }
   ],
   "source": [
    "pd.DataFrame(OS1_genetype).value_counts()"
   ]
  },
  {
   "cell_type": "markdown",
   "id": "0d7afad8",
   "metadata": {},
   "source": [
    "### Noncanonical ORF repositories"
   ]
  },
  {
   "cell_type": "markdown",
   "id": "1626506a",
   "metadata": {},
   "source": [
    "OpenProt lenght limit to identify short (<30 aa) pseudogenic ORFs"
   ]
  },
  {
   "cell_type": "code",
   "execution_count": 53,
   "id": "b83012d3",
   "metadata": {},
   "outputs": [],
   "source": [
    "MART95_df_psdg=pd.read_pickle(\"./MART95_df_psdg.pkl\") #Ensemble 95 compatible with OpenProt version 1.6\n",
    "OP_df_altprot_ms0_psdg=pd.read_pickle(\"./OP16_df_altprot_ms0_psdg.pkl\")"
   ]
  },
  {
   "cell_type": "code",
   "execution_count": 54,
   "id": "ad99989f",
   "metadata": {},
   "outputs": [],
   "source": [
    "MART95all_psdg=set(list(MART95_df_psdg[\"Gene name\"]))"
   ]
  },
  {
   "cell_type": "code",
   "execution_count": 55,
   "id": "228cdeb6",
   "metadata": {},
   "outputs": [],
   "source": [
    "OP_df_altprot_ms0_psdg[\"trxstableid\"]=[t.split(\".\")[0] for t in list(OP_df_altprot_ms0_psdg['transcript accession'])]"
   ]
  },
  {
   "cell_type": "code",
   "execution_count": 56,
   "id": "a8721124",
   "metadata": {},
   "outputs": [],
   "source": [
    "OPincluded_psdg=set(list(OP_df_altprot_ms0_psdg[OP_df_altprot_ms0_psdg[\"trxstableid\"].isin(list(MART95_df_psdg['Transcript stable ID']))][\"gene symbol\"]))"
   ]
  },
  {
   "cell_type": "code",
   "execution_count": 57,
   "id": "6ed8e572",
   "metadata": {},
   "outputs": [
    {
     "data": {
      "text/plain": [
       "'Note that 4066 pseudogenes do not harbor an ORF longer than 30 codons and are therefore excluded from OpenProt analyses.'"
      ]
     },
     "execution_count": 57,
     "metadata": {},
     "output_type": "execute_result"
    }
   ],
   "source": [
    "f\"Note that {len(MART95all_psdg)-len(OPincluded_psdg)} pseudogenes do not harbor an ORF longer than 30 codons and are therefore excluded from OpenProt analyses.\""
   ]
  },
  {
   "cell_type": "markdown",
   "id": "d3375dfd",
   "metadata": {},
   "source": [
    "### Enrichment techniques"
   ]
  },
  {
   "cell_type": "markdown",
   "id": "4450c665",
   "metadata": {},
   "source": [
    "Percent of pseudogenes with ORF length > 100 aa"
   ]
  },
  {
   "cell_type": "code",
   "execution_count": null,
   "id": "cd163993",
   "metadata": {},
   "outputs": [],
   "source": [
    "OP_df_altprot_ms0_psdg=pd.read_pickle(\"./OP16_df_altprot_ms0_psdg.pkl\")"
   ]
  },
  {
   "cell_type": "code",
   "execution_count": 263,
   "id": "41d70085",
   "metadata": {},
   "outputs": [],
   "source": [
    "OP_df_altprot_ms0_psdg_len100plus=OP_df_altprot_ms0_psdg.loc[OP_df_altprot_ms0_psdg['protein length (a.a.)']>100,]"
   ]
  },
  {
   "cell_type": "code",
   "execution_count": 271,
   "id": "9008779a",
   "metadata": {},
   "outputs": [],
   "source": [
    "psdg_len100plus_perc=len(set(list(OP_df_altprot_ms0_psdg_len100plus['gene symbol'])))/len(set(list(OP_df_altprot_ms0_psdg['gene symbol'])))*100"
   ]
  },
  {
   "cell_type": "code",
   "execution_count": 272,
   "id": "9744406c",
   "metadata": {},
   "outputs": [
    {
     "data": {
      "text/plain": [
       "'One should note that 36.16% of human pseudogenes have at least one ORF longer than 100 codons, a common size threshold in the aforementioned studies.'"
      ]
     },
     "execution_count": 272,
     "metadata": {},
     "output_type": "execute_result"
    }
   ],
   "source": [
    "f\"One should note that {round(psdg_len100plus_perc,2)}% of human pseudogenes have at least one ORF longer than 100 codons, a common size threshold in the aforementioned studies.\""
   ]
  },
  {
   "cell_type": "markdown",
   "id": "225da568",
   "metadata": {},
   "source": [
    "Number of pseudogenes detected by MicroID (Supplementery Data 1) was calculated by hand"
   ]
  },
  {
   "cell_type": "markdown",
   "id": "de6b642a",
   "metadata": {},
   "source": [
    "The list of selected pseudogenes:\n",
    "\n",
    "Nucleus (Fib): NDUFB4P12, RPL18P13 (2), EEF1A1P7, PGK1P2, NAP1L4P1;\n",
    "\n",
    "Chromatin (H2B): EEF1A1P7, NAP1L4P1, ASS1P1, HNRNPLP2;\n",
    "\n",
    "Nuclear envelope (Lamin): - ;\n",
    "\n",
    "Whole nucleus (NLS): RPS7P4, ASS1P1, RPL7AP5, YWHAEP1;"
   ]
  },
  {
   "cell_type": "markdown",
   "id": "d2eba21a",
   "metadata": {},
   "source": [
    "### Immunopeptidomics"
   ]
  },
  {
   "cell_type": "markdown",
   "id": "d624b776",
   "metadata": {},
   "source": [
    "Number of pseudogenic peptides identified in Chong et al. study"
   ]
  },
  {
   "cell_type": "code",
   "execution_count": 1,
   "id": "0d34d1cb",
   "metadata": {},
   "outputs": [],
   "source": [
    "#https://doi.org/10.1038%2Fs41467-020-14968-9\n",
    "#We filtered \"Supplementary Data 5\", excluding \"TE\" and \"ribo\" in column \"HLAp category\" , leaving in \"IsDecoy\" column only \"False\" values, \n",
    "#and non-empty cells in column \"ORF_category\".\n",
    "#Remaining rows in column (\"Chong_et_al_filtered\") \"Sequence\" were checked for uniqueness in Nextprot. (https://www.nextprot.org/tools/peptide-uniqueness-checker)\n",
    "#Resulting output depicts peptides detected in previous studies (\"Chong_et_al_non-unique\").\n",
    "#They will be removed from filtered data and remaining peptides will be checked if they are assigned to pseudogene transcript or not."
   ]
  },
  {
   "cell_type": "code",
   "execution_count": 2,
   "id": "23583995",
   "metadata": {},
   "outputs": [],
   "source": [
    "Chongfilt_file=\"Chong_et_al_filtered.txt\"\n",
    "ChongNonU_file=\"Chong_et_al_non-unique.txt\""
   ]
  },
  {
   "cell_type": "code",
   "execution_count": 17,
   "id": "ae1a49b3",
   "metadata": {},
   "outputs": [],
   "source": [
    "#Upload as a data frame\n",
    "Chongfilt_df=pd.read_csv(Chongfilt_file,sep=\"\\t\")\n",
    "#Upload as a list\n",
    "ChongNonU_list=list(pd.read_csv(ChongNonU_file,sep=\"\\t\",header=None)[0])"
   ]
  },
  {
   "cell_type": "code",
   "execution_count": 20,
   "id": "c70b27ab",
   "metadata": {},
   "outputs": [],
   "source": [
    "#Remove non-unique peptides\n",
    "Chongfilt_dffilt = Chongfilt_df[~Chongfilt_df['Sequence'].isin(ChongNonU_list)]"
   ]
  },
  {
   "cell_type": "code",
   "execution_count": 28,
   "id": "914b8b20",
   "metadata": {},
   "outputs": [],
   "source": [
    "#Transform a data frame to a dictionary, where key is a peptide and value is a list of transcripts\n",
    "Chong_dict={}\n",
    "for key in Chongfilt_dffilt[\"Sequence\"]:\n",
    "    Chong_dict[key]=[]\n",
    "    trx_list=list(Chongfilt_dffilt.loc[Chongfilt_dffilt[\"Sequence\"]==key,\"Transcript_ID\"])\n",
    "    for trx in trx_list:\n",
    "        Chong_dict[key].append(trx[0:15])"
   ]
  },
  {
   "cell_type": "code",
   "execution_count": 30,
   "id": "b6b6f289",
   "metadata": {},
   "outputs": [],
   "source": [
    "#Load Ensemble 110 annotation of pseudogenes\n",
    "MART110_df_psdg=pd.read_pickle(\"./MART_df_psdg.pkl\") "
   ]
  },
  {
   "cell_type": "code",
   "execution_count": 33,
   "id": "f0384d50",
   "metadata": {},
   "outputs": [],
   "source": [
    "#Count peptides from pseudogenes\n",
    "Chong_psdg_peptide=0\n",
    "for key in Chong_dict.keys():\n",
    "    for trx in Chong_dict[key]:\n",
    "        if trx in list(MART110_df_psdg[\"Transcript stable ID\"]):\n",
    "            Chong_psdg_peptide+=1"
   ]
  },
  {
   "cell_type": "code",
   "execution_count": 35,
   "id": "9c87be54",
   "metadata": {},
   "outputs": [
    {
     "data": {
      "text/plain": [
       "'Chong et al. identified 369  peptides from noncanonical proteins in the immunopeptidome of human melanoma cell lines, including 89 from pseudogenes.'"
      ]
     },
     "execution_count": 35,
     "metadata": {},
     "output_type": "execute_result"
    }
   ],
   "source": [
    "f\"Chong et al. identified 369  peptides from noncanonical proteins in the immunopeptidome of human melanoma cell lines, including {Chong_psdg_peptide} from pseudogenes.\""
   ]
  },
  {
   "cell_type": "code",
   "execution_count": null,
   "id": "9c82a836",
   "metadata": {},
   "outputs": [],
   "source": []
  }
 ],
 "metadata": {
  "kernelspec": {
   "display_name": "Python 3 (ipykernel)",
   "language": "python",
   "name": "python3"
  },
  "language_info": {
   "codemirror_mode": {
    "name": "ipython",
    "version": 3
   },
   "file_extension": ".py",
   "mimetype": "text/x-python",
   "name": "python",
   "nbconvert_exporter": "python",
   "pygments_lexer": "ipython3",
   "version": "3.9.12"
  }
 },
 "nbformat": 4,
 "nbformat_minor": 5
}
